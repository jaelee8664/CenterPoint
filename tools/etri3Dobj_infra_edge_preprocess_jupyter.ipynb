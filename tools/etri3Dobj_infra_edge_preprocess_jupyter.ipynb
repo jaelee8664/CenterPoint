{
 "cells": [
  {
   "cell_type": "markdown",
   "metadata": {},
   "source": [
    "# 인프라 엣지 데이터 분석"
   ]
  },
  {
   "cell_type": "code",
   "execution_count": null,
   "metadata": {},
   "outputs": [],
   "source": [
    "import os\n",
    "os.chdir('../')"
   ]
  },
  {
   "cell_type": "code",
   "execution_count": null,
   "metadata": {},
   "outputs": [],
   "source": [
    "root_dir = \"data/etri3Dobj_infra_edge/3D_object_detection_tracking(edge_infra)\"\n",
    "for (root, dirs, file) in os.walk(root_dir):\n",
    "    print(f\"root: {root}\")\n",
    "    print(f\"dirs: {dirs}\")\n",
    "    print(f\"file: {file}\")"
   ]
  },
  {
   "cell_type": "markdown",
   "metadata": {},
   "source": [
    "### sensor.json\n",
    "* 각 데이터 폴더마다 라이더에 붙은 id가 다름\n",
    "* translation은 항상 [0 ,0 ,0]\n",
    "* rotation은 항상 [1, 0, 0, 0]\n",
    "* heigth_from_ground는 1.6, 1.7 두개 존재"
   ]
  },
  {
   "cell_type": "code",
   "execution_count": null,
   "metadata": {},
   "outputs": [],
   "source": [
    "import json"
   ]
  },
  {
   "cell_type": "code",
   "execution_count": null,
   "metadata": {},
   "outputs": [],
   "source": [
    "data_folder = []\n",
    "root_dir = \"data/etri3Dobj_infra_edge\"\n",
    "meta_file= ['sensor.json', 'log.json', 'dataset.json', 'ego_pose.json', 'frame_annotation.json', 'instance.json', 'frame_data.json', 'frame.json']\n",
    "for (root, dirs, file) in os.walk(root_dir):\n",
    "    if root == \"data/etri3Dobj_infra_edge/3D_object_detection_tracking(edge_infra)\":\n",
    "        for w in dirs:\n",
    "            data_folder.append(root+'/'+w)\n",
    "        break\n",
    "\n",
    "uuid = set()\n",
    "translation = set()\n",
    "rotation = set()\n",
    "height_from_ground = set()\n",
    "# print(data_folder)\n",
    "for d in data_folder:\n",
    "\n",
    "    for m in meta_file:\n",
    "        file_name = d + '/meta/' + m\n",
    "        \n",
    "        if m == 'sensor.json':\n",
    "            with open(file_name, 'r') as f:\n",
    "                json_data = json.load(f)\n",
    "            for i in json_data:\n",
    "                if i['name'] == \"lidar(00)\":\n",
    "                    uuid.add(i['uuid'])\n",
    "                    translation.add(str(i['translation']))\n",
    "                    rotation.add(str(i['rotation']))\n",
    "                    height_from_ground.add(str(i['height_from_ground']))\n",
    "print(f\"uuid: {uuid}\")\n",
    "print(f\"len(uuid): {len(uuid)}\")\n",
    "print(f\"translation: {translation}\")\n",
    "print(f\"rotation: {rotation}\")\n",
    "print(f\"height_from_ground: {height_from_ground}\")"
   ]
  },
  {
   "cell_type": "markdown",
   "metadata": {},
   "source": [
    "### instance.json\n",
    "* 인스턴수 개수: 1986\n",
    "* category_name: 총 9 종류\n",
    "    * dynamic_object.vehicle.personal_mobility\n",
    "    * dynamic_object.vehicle.bus\n",
    "    * dynamic_object.vehicle.bicycle\n",
    "    * dynamic_object.vehicle.car\n",
    "    * dynamic_object.vehicle.construction_vehicle\n",
    "    * dynamic_object.vehicle.motorcycle\n",
    "    * dynamic_object.vehicle.truck\n",
    "    * dynamic_object.human.pedestrian\n",
    "    * dynamic_object.animal.ground_animal"
   ]
  },
  {
   "cell_type": "code",
   "execution_count": null,
   "metadata": {},
   "outputs": [],
   "source": [
    "data_folder = []\n",
    "root_dir = \"data/etri3Dobj_infra_edge\"\n",
    "meta_file= ['sensor.json', 'log.json', 'dataset.json', 'ego_pose.json', 'frame_annotation.json', 'instance.json', 'frame_data.json', 'frame.json']\n",
    "for (root, dirs, file) in os.walk(root_dir):\n",
    "    if root == \"data/etri3Dobj_infra_edge/3D_object_detection_tracking(edge_infra)\":\n",
    "        for w in dirs:\n",
    "            data_folder.append(root+'/'+w)\n",
    "        break\n",
    "item = set()\n",
    "uuid = set()\n",
    "category_name = set()\n",
    "num_annotations = set()\n",
    "description = set()\n",
    "\n",
    "for d in data_folder:\n",
    "    for m in meta_file:\n",
    "        file_name = d + '/meta/' + m\n",
    "        if m == 'instance.json':\n",
    "            with open(file_name, 'r') as f:\n",
    "                json_data = json.load(f)\n",
    "            for i in json_data:\n",
    "                for k, v in i.items():\n",
    "                    item.add(str(k))\n",
    "                uuid.add(i['uuid'])\n",
    "                category_name.add(str(i['category_name']))\n",
    "                num_annotations.add(str(i['num_annotations']))\n",
    "                description.add(i['description'])\n",
    "print(f\"item: {item}\")\n",
    "print(f\"uuid: {uuid}\")\n",
    "print(f\"len(uuid): {len(uuid)}\")\n",
    "print(f\"category_name: {category_name}\")\n",
    "print(f\"len(category_name): {len(category_name)}\")\n",
    "print(f\"num_annotations: {num_annotations}\")\n",
    "print(f\"description: {description}\")"
   ]
  },
  {
   "cell_type": "markdown",
   "metadata": {},
   "source": [
    "### frame.json"
   ]
  },
  {
   "cell_type": "code",
   "execution_count": null,
   "metadata": {},
   "outputs": [],
   "source": [
    "data_folder = []\n",
    "root_dir = \"data/etri3Dobj_infra_edge\"\n",
    "meta_file= ['sensor.json', 'log.json', 'dataset.json', 'ego_pose.json', 'frame_annotation.json', 'instance.json', 'frame_data.json', 'frame.json']\n",
    "for (root, dirs, file) in os.walk(root_dir):\n",
    "    if root == \"data/etri3Dobj_infra_edge/3D_object_detection_tracking(edge_infra)\":\n",
    "        for w in dirs:\n",
    "            data_folder.append(root+'/'+w)\n",
    "        break\n",
    "item = set()\n",
    "uuid = set()\n",
    "dataset_uuid = set()\n",
    "\n",
    "\n",
    "for d in data_folder:\n",
    "    for m in meta_file:\n",
    "        file_name = d + '/meta/' + m\n",
    "        if m == 'frame.json':\n",
    "            with open(file_name, 'r') as f:\n",
    "                json_data = json.load(f)\n",
    "            for i in json_data:\n",
    "                for k, v in i.items():\n",
    "                    item.add(str(k))\n",
    "                uuid.add(i['uuid'])\n",
    "                dataset_uuid.add(str(i['dataset_uuid']))\n",
    "\n",
    "print(f\"item: {item}\")\n",
    "print(f\"uuid: {uuid}\")\n",
    "print(f\"len(uuid): {len(uuid)}\")\n",
    "print(f\"dataset_uuid: {dataset_uuid}\")\n",
    "print(f\"len(dataset_uuid): {len(dataset_uuid)}\")"
   ]
  },
  {
   "cell_type": "markdown",
   "metadata": {},
   "source": [
    "### frame_data.json"
   ]
  },
  {
   "cell_type": "code",
   "execution_count": null,
   "metadata": {},
   "outputs": [],
   "source": [
    "data_folder = []\n",
    "root_dir = \"data/etri3Dobj_infra_edge\"\n",
    "meta_file= ['sensor.json', 'log.json', 'dataset.json', 'ego_pose.json', 'frame_annotation.json', 'instance.json', 'frame_data.json', 'frame.json']\n",
    "for (root, dirs, file) in os.walk(root_dir):\n",
    "    if root == \"data/etri3Dobj_infra_edge/3D_object_detection_tracking(edge_infra)\":\n",
    "        for w in dirs:\n",
    "            data_folder.append(root+'/'+w)\n",
    "        break\n",
    "item = set()\n",
    "uuid = set()\n",
    "category_name = set()\n",
    "num_annotations = set()\n",
    "description = set()\n",
    "\n",
    "for d in data_folder:\n",
    "    for m in meta_file:\n",
    "        file_name = d + '/meta/' + m\n",
    "        if m == 'frame_data.json':\n",
    "            with open(file_name, 'r') as f:\n",
    "                json_data = json.load(f)\n",
    "            for i in json_data:\n",
    "                for k, v in i.items():\n",
    "                    item.add(str(k))\n",
    "                uuid.add(i['uuid'])\n",
    "                # ego_pose_uuid.add(str(i['ego_pose_uuid']))\n",
    "                # num_annotations.add(str(i['num_annotations']))\n",
    "                # description.add(i['description'])\n",
    "print(f\"item: {item}\")\n",
    "# print(f\"uuid: {uuid}\")\n",
    "print(f\"len(uuid): {len(uuid)}\")\n",
    "# print(f\"category_name: {category_name}\")\n",
    "# print(f\"len(ego_pose_uuid): {len(ego_pose_uuid)}\")\n",
    "# print(f\"num_annotations: {num_annotations}\")\n",
    "# print(f\"description: {description}\")"
   ]
  },
  {
   "cell_type": "markdown",
   "metadata": {},
   "source": [
    "## 1. frame.json으로 placeholder 생성"
   ]
  },
  {
   "cell_type": "code",
   "execution_count": null,
   "metadata": {},
   "outputs": [],
   "source": [
    "import os\n",
    "import json\n",
    "os.chdir('../')\n",
    "data_folder = []\n",
    "data = dict()\n",
    "root_dir = \"data/etri3Dobj_infra_edge\"\n",
    "meta_file= ['sensor.json', 'log.json', 'dataset.json', 'ego_pose.json', 'frame_annotation.json', 'instance.json', 'frame_data.json', 'frame.json']\n",
    "for (root, dirs, file) in os.walk(root_dir):\n",
    "    if root == \"data/etri3Dobj_infra_edge/3D_object_detection_tracking(edge_infra)\":\n",
    "        for w in dirs:\n",
    "            data_folder.append(root+'/'+w)\n",
    "        break\n",
    "\n",
    "for d in data_folder:\n",
    "    for m in meta_file:\n",
    "        file_name = d + '/meta/' + m\n",
    "        if m == 'frame.json':\n",
    "            with open(file_name, 'r') as f:\n",
    "                json_data = json.load(f)\n",
    "            idx = 0\n",
    "\n",
    "            nex_frame_uuid = json_data[idx]['uuid']\n",
    "            while (nex_frame_uuid != None):\n",
    "                cur_frame = json_data[idx]\n",
    "                assert (nex_frame_uuid == cur_frame['uuid'])\n",
    "                nex_frame_uuid = cur_frame['next']\n",
    "                \n",
    "                if cur_frame['dataset_uuid'] not in data:\n",
    "                    data[cur_frame['dataset_uuid']] = dict()\n",
    "                # data -> dataset_uuid -> frame_uuid 순으로 디렉토리 생성\n",
    "                data[cur_frame['dataset_uuid']][cur_frame['uuid']] = dict()\n",
    "                # det3d 인풋형식 맞추기\n",
    "                data[cur_frame['dataset_uuid']][cur_frame['uuid']]['type'] = 'lidar'\n",
    "                idx += 1\n",
    "            "
   ]
  },
  {
   "cell_type": "code",
   "execution_count": null,
   "metadata": {},
   "outputs": [],
   "source": [
    "for idx, k in enumerate(data.keys()):\n",
    "    print(f\"{idx+1}번 데이터 폴더의 프레임 수: {len(data[k])}\")"
   ]
  },
  {
   "cell_type": "markdown",
   "metadata": {},
   "source": [
    "## 2. frame_data.json으로 file_name에 저장된 points를 placeholder에 추가"
   ]
  },
  {
   "cell_type": "code",
   "execution_count": null,
   "metadata": {},
   "outputs": [],
   "source": [
    "from tqdm import tqdm"
   ]
  },
  {
   "cell_type": "code",
   "execution_count": null,
   "metadata": {},
   "outputs": [],
   "source": [
    "import open3d as o3d\n",
    "import numpy as np\n",
    "for d in tqdm(data_folder):\n",
    "    for m in meta_file:\n",
    "        file_name = d + '/meta/' + m\n",
    "        if m == 'frame_data.json':\n",
    "            with open(file_name, 'r') as f:\n",
    "                json_data = json.load(f)\n",
    "            for i in json_data:\n",
    "                if (i['file_format'] == 'pcd'):\n",
    "                    lidar_file_name = d + '/sensor/lidar(00)/' + i['file_name'] + '.' + i['file_format']\n",
    "                    pcd = o3d.io.read_point_cloud(lidar_file_name)\n",
    "                    out_arr = np.asarray(pcd.points)  \n",
    "                    for k in data.keys():\n",
    "                        if i['frame_uuid'] in data[k]:\n",
    "                            data[k][i['frame_uuid']]['points'] = out_arr\n",
    "                            data[k][i['frame_uuid']]['annotations'] = {'boxes': [], 'names': []}"
   ]
  },
  {
   "cell_type": "code",
   "execution_count": null,
   "metadata": {},
   "outputs": [],
   "source": [
    "data[k][i['frame_uuid']]"
   ]
  },
  {
   "cell_type": "markdown",
   "metadata": {},
   "source": [
    "## 3. frame_annotation.json으로 anno 정보 placeholder에 추가"
   ]
  },
  {
   "cell_type": "code",
   "execution_count": null,
   "metadata": {},
   "outputs": [],
   "source": [
    "instance_to_name = {'dynamic_object.vehicle.personal_mobility': 'personal_mobility',\n",
    "                    'dynamic_object.vehicle.bus': 'bus',\n",
    "                    'dynamic_object.vehicle.bicycle': 'bicycle',\n",
    "                    'dynamic_object.vehicle.car' : 'car',\n",
    "                    'dynamic_object.vehicle.construction_vehicle': 'construction_vehicle',\n",
    "                    'dynamic_object.vehicle.motorcycle': 'motorcycle',\n",
    "                    'dynamic_object.vehicle.truck': 'truck',\n",
    "                    'dynamic_object.human.pedestrian': 'pedestrian',\n",
    "                    'dynamic_object.animal.ground_animal': 'ground_animal'}"
   ]
  },
  {
   "cell_type": "code",
   "execution_count": null,
   "metadata": {},
   "outputs": [],
   "source": [
    "frame_data_to_frame_uuid = dict()\n",
    "for d in data_folder:\n",
    "    for m in meta_file:\n",
    "        file_name = d + '/meta/' + m\n",
    "        if m == 'frame_data.json':\n",
    "            with open(file_name, 'r') as f:\n",
    "                json_data = json.load(f)\n",
    "            for i in json_data:\n",
    "                frame_data_to_frame_uuid[i['uuid']] = i['frame_uuid']\n",
    "                    "
   ]
  },
  {
   "cell_type": "code",
   "execution_count": null,
   "metadata": {},
   "outputs": [],
   "source": [
    "instance_to_category_name = dict()\n",
    "for d in data_folder:\n",
    "    for m in meta_file:\n",
    "        file_name = d + '/meta/' + m\n",
    "        if m == 'instance.json':\n",
    "            with open(file_name, 'r') as f:\n",
    "                json_data = json.load(f)\n",
    "            for i in json_data:\n",
    "                instance_to_category_name[i['uuid']] = instance_to_name[i['category_name']]\n",
    "                    "
   ]
  },
  {
   "cell_type": "code",
   "execution_count": null,
   "metadata": {},
   "outputs": [],
   "source": [
    "len(data)"
   ]
  },
  {
   "cell_type": "code",
   "execution_count": null,
   "metadata": {},
   "outputs": [],
   "source": [
    "def quaternion_to_euler_angle_z(orientation):\n",
    "    w, x, y, z = orientation\n",
    "    ysqr = y * y\n",
    "\n",
    "    t3 = +2.0 * (w * z + x * y)\n",
    "    t4 = +1.0 - 2.0 * (ysqr + z * z)\n",
    "    # Z = np.degrees(np.arctan2(t3, t4))\n",
    "    Z = np.arctan2(t3, t4)\n",
    "    return Z\n",
    "success = fail = 0\n",
    "for d in tqdm(data_folder):\n",
    "    for m in meta_file:\n",
    "        file_name = d + '/meta/' + m\n",
    "        if m == 'frame_annotation.json':\n",
    "            with open(file_name, 'r') as f:\n",
    "                json_data = json.load(f)\n",
    "            for i in json_data:\n",
    "                if i['is_lidar_synced'] == False:\n",
    "                    try:\n",
    "                        tmp_arr = np.concatenate((np.array(i['geometry']['center']), np.array(i['geometry']['wlh']), np.array([0.0, 0.0, quaternion_to_euler_angle_z(i['geometry']['orientation'])])))\n",
    "                    except:\n",
    "                        continue\n",
    "                    # print(frame_data_to_frame_uuid[i['frame_data_uuid']])\n",
    "                    frame_uuid = frame_data_to_frame_uuid[i['frame_data_uuid']]\n",
    "                    for k in data.keys():\n",
    "                        try:\n",
    "                            if frame_uuid in data[k]:\n",
    "                                data[k][frame_uuid]['annotations']['boxes'].append(tmp_arr)\n",
    "                                data[k][frame_uuid]['annotations']['names'].append(instance_to_category_name[i['instance_uuid']])\n",
    "                                success += 1\n",
    "                        except:\n",
    "                            fail += 1"
   ]
  },
  {
   "cell_type": "code",
   "execution_count": null,
   "metadata": {},
   "outputs": [],
   "source": [
    "fail"
   ]
  },
  {
   "cell_type": "code",
   "execution_count": null,
   "metadata": {},
   "outputs": [],
   "source": [
    "success"
   ]
  },
  {
   "cell_type": "code",
   "execution_count": null,
   "metadata": {},
   "outputs": [],
   "source": [
    "data"
   ]
  }
 ],
 "metadata": {
  "kernelspec": {
   "display_name": "centerpoint",
   "language": "python",
   "name": "python3"
  },
  "language_info": {
   "codemirror_mode": {
    "name": "ipython",
    "version": 3
   },
   "file_extension": ".py",
   "mimetype": "text/x-python",
   "name": "python",
   "nbconvert_exporter": "python",
   "pygments_lexer": "ipython3",
   "version": "3.8.18"
  }
 },
 "nbformat": 4,
 "nbformat_minor": 2
}
