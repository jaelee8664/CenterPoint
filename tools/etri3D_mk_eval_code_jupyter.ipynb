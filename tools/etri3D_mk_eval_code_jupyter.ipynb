{
 "cells": [
  {
   "cell_type": "markdown",
   "metadata": {},
   "source": [
    "# 목적: visualize 및 평가 metric 계산"
   ]
  },
  {
   "cell_type": "code",
   "execution_count": 1,
   "metadata": {},
   "outputs": [
    {
     "name": "stdout",
     "output_type": "stream",
     "text": [
      "no apex\n",
      "No Tensorflow\n",
      "Deformable Convolution not built!\n",
      "No APEX!\n"
     ]
    }
   ],
   "source": [
    "import argparse\n",
    "import json\n",
    "import os\n",
    "import sys\n",
    "import time\n",
    "\n",
    "from numba.core.errors import NumbaDeprecationWarning, NumbaPendingDeprecationWarning, NumbaWarning\n",
    "import warnings\n",
    "warnings.simplefilter('ignore', category=NumbaDeprecationWarning)\n",
    "warnings.simplefilter('ignore', category=NumbaWarning)\n",
    "\n",
    "import numpy as np\n",
    "import torch\n",
    "from pathlib import Path\n",
    "import yaml\n",
    "from det3d import torchie\n",
    "from det3d.datasets import build_dataloader, build_dataset\n",
    "from det3d.models import build_detector\n",
    "from det3d.torchie import Config\n",
    "from det3d.torchie.apis import (\n",
    "    batch_processor,\n",
    "    build_optimizer,\n",
    "    get_root_logger,\n",
    "    init_dist,\n",
    "    set_random_seed,\n",
    "    train_detector,\n",
    ")\n",
    "from det3d.torchie.trainer import load_checkpoint\n",
    "import torch.distributed as dist\n",
    "import subprocess\n",
    "\n",
    "# 주피터 노트북 경로설정\n",
    "os.chdir('../')\n",
    "\n",
    "def parse_args():\n",
    "    parser = argparse.ArgumentParser(description=\"Train a detector\")\n",
    "    parser.add_argument(\"--config\", default=\"configs/etriInfra/pp/etriInfra_centerpoint_pp_02voxel_two_pfn_10sweep.py\", help=\"train config file path\")\n",
    "    parser.add_argument(\"--work_dir\", help=\"the dir to save logs and models\")\n",
    "    parser.add_argument(\"--resume_from\", help=\"the checkpoint file to resume from\")\n",
    "    parser.add_argument(\n",
    "        \"--validate\",\n",
    "        action=\"store_true\",\n",
    "        help=\"whether to evaluate the checkpoint during training\",\n",
    "    )\n",
    "    parser.add_argument(\n",
    "        \"--gpus\",\n",
    "        type=int,\n",
    "        default=1,\n",
    "        help=\"number of gpus to use \" \"(only applicable to non-distributed training)\",\n",
    "    )\n",
    "    parser.add_argument(\"--seed\", type=int, default=None, help=\"random seed\")\n",
    "    parser.add_argument(\n",
    "        \"--launcher\",\n",
    "        choices=[\"pytorch\", \"slurm\"],\n",
    "        default=\"pytorch\",\n",
    "        help=\"job launcher\",\n",
    "    )\n",
    "    parser.add_argument(\"--local_rank\", type=int, default=0)\n",
    "    parser.add_argument(\n",
    "        \"--autoscale-lr\",\n",
    "        action=\"store_true\",\n",
    "        help=\"automatically scale lr with the number of gpus\",\n",
    "    )\n",
    "    args = parser.parse_args(args=[])\n",
    "    if \"LOCAL_RANK\" not in os.environ:\n",
    "        os.environ[\"LOCAL_RANK\"] = str(args.local_rank)\n",
    "\n",
    "    return args\n",
    "args = parse_args()\n",
    "cfg = Config.fromfile(args.config)\n",
    "# distribution 설정 안함\n",
    "cfg.local_rank = args.local_rank "
   ]
  },
  {
   "cell_type": "code",
   "execution_count": 2,
   "metadata": {},
   "outputs": [
    {
     "name": "stderr",
     "output_type": "stream",
     "text": [
      "2024-04-15 13:05:03,519 - INFO - Distributed training: False\n",
      "2024-04-15 13:05:03,520 - INFO - torch.backends.cudnn.benchmark: False\n"
     ]
    }
   ],
   "source": [
    "# init logger before other steps\n",
    "distributed = False\n",
    "cfg.gpus = args.gpus\n",
    "logger = get_root_logger(cfg.log_level)\n",
    "logger.info(\"Distributed training: {}\".format(distributed))\n",
    "logger.info(f\"torch.backends.cudnn.benchmark: {torch.backends.cudnn.benchmark}\")"
   ]
  },
  {
   "cell_type": "code",
   "execution_count": 3,
   "metadata": {},
   "outputs": [
    {
     "name": "stderr",
     "output_type": "stream",
     "text": [
      "2024-04-15 13:05:03,589 - INFO - Finish RPN Initialization\n",
      "2024-04-15 13:05:03,589 - INFO - num_classes: [2, 2, 1, 1, 2, 1]\n",
      "2024-04-15 13:05:03,606 - INFO - Finish CenterHead Initialization\n"
     ]
    },
    {
     "name": "stdout",
     "output_type": "stream",
     "text": [
      "Use HM Bias:  -2.19\n"
     ]
    }
   ],
   "source": [
    "model = build_detector(cfg.model, train_cfg=None, test_cfg=cfg.test_cfg)"
   ]
  },
  {
   "cell_type": "code",
   "execution_count": 4,
   "metadata": {},
   "outputs": [],
   "source": [
    "args.testset = False\n",
    "dataset = build_dataset(cfg.data.val)"
   ]
  },
  {
   "cell_type": "code",
   "execution_count": 5,
   "metadata": {},
   "outputs": [],
   "source": [
    "args.speed_test = True\n",
    "data_loader = build_dataloader(\n",
    "        dataset,\n",
    "        batch_size=cfg.data.samples_per_gpu if not args.speed_test else 1,\n",
    "        workers_per_gpu=cfg.data.workers_per_gpu,\n",
    "        dist=distributed,\n",
    "        shuffle=False,\n",
    "    )"
   ]
  },
  {
   "cell_type": "code",
   "execution_count": 6,
   "metadata": {},
   "outputs": [],
   "source": [
    "args.checkpoint = \"modelzoo/etri3D_pointpillar/etri3D_latest.pth\"\n",
    "checkpoint = load_checkpoint(model, args.checkpoint, map_location=\"cpu\")"
   ]
  },
  {
   "cell_type": "code",
   "execution_count": 7,
   "metadata": {},
   "outputs": [],
   "source": [
    "model = model.cuda()\n",
    "model.eval()\n",
    "mode = \"val\""
   ]
  },
  {
   "cell_type": "code",
   "execution_count": 8,
   "metadata": {},
   "outputs": [
    {
     "name": "stderr",
     "output_type": "stream",
     "text": [
      "2024-04-15 13:05:05,254 - INFO - work dir: None\n"
     ]
    },
    {
     "name": "stdout",
     "output_type": "stream",
     "text": [
      "[                              ] 0/3000, elapsed: 0s, ETA:"
     ]
    }
   ],
   "source": [
    "logger.info(f\"work dir: {args.work_dir}\")\n",
    "if cfg.local_rank == 0:\n",
    "    prog_bar = torchie.ProgressBar(len(data_loader.dataset) // cfg.gpus)\n",
    "\n",
    "detections = {}\n",
    "cpu_device = torch.device(\"cpu\")\n",
    "\n",
    "start = time.time()\n",
    "\n",
    "start = int(len(dataset) / 3)\n",
    "end = int(len(dataset) * 2 /3)\n",
    "\n",
    "time_start = 0 \n",
    "time_end = 0 "
   ]
  },
  {
   "cell_type": "code",
   "execution_count": 9,
   "metadata": {},
   "outputs": [
    {
     "name": "stderr",
     "output_type": "stream",
     "text": [
      "/home/jaelee/anaconda3/envs/centerpoint/lib/python3.8/site-packages/numpy/core/shape_base.py:420: VisibleDeprecationWarning: Creating an ndarray from ragged nested sequences (which is a list-or-tuple of lists-or-tuples-or ndarrays with different lengths or shapes) is deprecated. If you meant to do this, you must specify 'dtype=object' when creating the ndarray.\n",
      "  arrays = [asanyarray(arr) for arr in arrays]\n",
      "/home/jaelee/anaconda3/envs/centerpoint/lib/python3.8/site-packages/numpy/core/shape_base.py:420: VisibleDeprecationWarning: Creating an ndarray from ragged nested sequences (which is a list-or-tuple of lists-or-tuples-or ndarrays with different lengths or shapes) is deprecated. If you meant to do this, you must specify 'dtype=object' when creating the ndarray.\n",
      "  arrays = [asanyarray(arr) for arr in arrays]\n",
      "/home/jaelee/anaconda3/envs/centerpoint/lib/python3.8/site-packages/numpy/core/shape_base.py:420: VisibleDeprecationWarning: Creating an ndarray from ragged nested sequences (which is a list-or-tuple of lists-or-tuples-or ndarrays with different lengths or shapes) is deprecated. If you meant to do this, you must specify 'dtype=object' when creating the ndarray.\n",
      "  arrays = [asanyarray(arr) for arr in arrays]\n",
      "/home/jaelee/anaconda3/envs/centerpoint/lib/python3.8/site-packages/numpy/core/shape_base.py:420: VisibleDeprecationWarning: Creating an ndarray from ragged nested sequences (which is a list-or-tuple of lists-or-tuples-or ndarrays with different lengths or shapes) is deprecated. If you meant to do this, you must specify 'dtype=object' when creating the ndarray.\n",
      "  arrays = [asanyarray(arr) for arr in arrays]\n",
      "/home/jaelee/anaconda3/envs/centerpoint/lib/python3.8/site-packages/numpy/core/shape_base.py:420: VisibleDeprecationWarning: Creating an ndarray from ragged nested sequences (which is a list-or-tuple of lists-or-tuples-or ndarrays with different lengths or shapes) is deprecated. If you meant to do this, you must specify 'dtype=object' when creating the ndarray.\n",
      "  arrays = [asanyarray(arr) for arr in arrays]\n",
      "/home/jaelee/anaconda3/envs/centerpoint/lib/python3.8/site-packages/numpy/core/shape_base.py:420: VisibleDeprecationWarning: Creating an ndarray from ragged nested sequences (which is a list-or-tuple of lists-or-tuples-or ndarrays with different lengths or shapes) is deprecated. If you meant to do this, you must specify 'dtype=object' when creating the ndarray.\n",
      "  arrays = [asanyarray(arr) for arr in arrays]\n",
      "/home/jaelee/anaconda3/envs/centerpoint/lib/python3.8/site-packages/numpy/core/shape_base.py:420: VisibleDeprecationWarning: Creating an ndarray from ragged nested sequences (which is a list-or-tuple of lists-or-tuples-or ndarrays with different lengths or shapes) is deprecated. If you meant to do this, you must specify 'dtype=object' when creating the ndarray.\n",
      "  arrays = [asanyarray(arr) for arr in arrays]\n",
      "/home/jaelee/anaconda3/envs/centerpoint/lib/python3.8/site-packages/numpy/core/shape_base.py:420: VisibleDeprecationWarning: Creating an ndarray from ragged nested sequences (which is a list-or-tuple of lists-or-tuples-or ndarrays with different lengths or shapes) is deprecated. If you meant to do this, you must specify 'dtype=object' when creating the ndarray.\n",
      "  arrays = [asanyarray(arr) for arr in arrays]\n",
      "/home/jaelee/anaconda3/envs/centerpoint/lib/python3.8/site-packages/torch/functional.py:478: UserWarning: torch.meshgrid: in an upcoming release, it will be required to pass the indexing argument. (Triggered internally at  ../aten/src/ATen/native/TensorShape.cpp:2894.)\n",
      "  return _VF.meshgrid(tensors, **kwargs)  # type: ignore[attr-defined]\n"
     ]
    }
   ],
   "source": [
    "input_output = {\"points\": [], \"gt_boxes\": [], \"gt_classes\": [], \"output_boxes\": [], \"output_classes\": [], \"output_scores\": []}\n",
    "for i, data_batch in enumerate(data_loader):\n",
    "    if i == start:\n",
    "        torch.cuda.synchronize()\n",
    "        time_start = time.time()\n",
    "\n",
    "    if i == end:\n",
    "        torch.cuda.synchronize()\n",
    "        time_end = time.time()\n",
    "\n",
    "    with torch.no_grad():\n",
    "        outputs = batch_processor(\n",
    "            model, data_batch, train_mode=False, local_rank=args.local_rank,\n",
    "        )\n",
    "    for j, output in enumerate(outputs):\n",
    "        input_output[\"points\"].append(data_batch['points'][j].cpu().numpy())\n",
    "        gt_boxes = []\n",
    "        for ts in data_batch['anno_box']:\n",
    "            ts2 = ts[j]\n",
    "            gt_boxes.extend(ts2.cpu().numpy())\n",
    "        input_output[\"gt_boxes\"].append(np.array(gt_boxes))\n",
    "        gt_classes = []\n",
    "        idx = 0\n",
    "        for k in range(data_batch[\"anno_cls\"][j].shape[0]):\n",
    "            head_classes = cfg.tasks[k]\n",
    "            class_names = head_classes['class_names']\n",
    "            head_class_ids = data_batch['anno_cls'][j][k]\n",
    "            for l in range(len(head_class_ids)):\n",
    "                _id = head_class_ids[l] - 1\n",
    "                gt_classes.append(idx+_id)\n",
    "            idx += len(class_names)\n",
    "        input_output[\"output_classes\"].append(output['label_preds'].cpu().numpy())\n",
    "        input_output[\"gt_classes\"].append(np.array(gt_classes))\n",
    "        input_output[\"output_boxes\"].append(output[\"box3d_lidar\"].cpu().numpy())\n",
    "        input_output[\"output_scores\"].append(output['scores'].cpu().numpy())"
   ]
  },
  {
   "cell_type": "code",
   "execution_count": 11,
   "metadata": {},
   "outputs": [
    {
     "name": "stdout",
     "output_type": "stream",
     "text": [
      "[Open3D INFO] Window window_1 created.\n"
     ]
    },
    {
     "data": {
      "application/vnd.jupyter.widget-view+json": {
       "model_id": "038d5e3162c64ce39c086055febfc866",
       "version_major": 2,
       "version_minor": 0
      },
      "text/plain": [
       "WebVisualizer(window_uid='window_1')"
      ]
     },
     "metadata": {},
     "output_type": "display_data"
    },
    {
     "name": "stdout",
     "output_type": "stream",
     "text": [
      "[Open3D INFO] Sending init frames to window_1.\n"
     ]
    }
   ],
   "source": [
    "import open3d as o3d\n",
    "from open3d.web_visualizer import draw\n",
    "i = 0\n",
    "points_v = input_output[\"points\"][i]\n",
    "gt_boxes = input_output[\"gt_boxes\"][i]\n",
    "pred_boxes = input_output[\"output_boxes\"][i]\n",
    "scores = input_output[\"output_scores\"][i]\n",
    "mesh_frame = o3d.geometry.TriangleMesh.create_coordinate_frame(size=2, origin=[0,0,0])\n",
    "pcd = o3d.geometry.PointCloud()\n",
    "pcd.points = o3d.utility.Vector3dVector(points_v)\n",
    "entities_to_draw = [pcd, mesh_frame]\n",
    "\n",
    "# pred_boxes 그리기\n",
    "for idx in range(len(pred_boxes)):\n",
    "        if scores[idx] <= 0.2:\n",
    "                continue\n",
    "        translation = pred_boxes[idx][:3]\n",
    "        w, l, h = pred_boxes[idx][3], pred_boxes[idx][4], pred_boxes[idx][5]\n",
    "        rotation = pred_boxes[idx][-1]\n",
    "\n",
    "        bounding_box = np.array([\n",
    "                        [-l/2, -l/2, l/2, l/2, -l/2, -l/2, l/2, l/2],\n",
    "                        [w/2, -w/2, -w/2, w/2, w/2, -w/2, -w/2, w/2],\n",
    "                        [-h/2, -h/2, -h/2, -h/2, h/2, h/2, h/2, h/2]]) \n",
    "        rotation_matrix = np.array([\n",
    "                [np.cos(rotation), -np.sin(rotation), 0.0],\n",
    "                [np.sin(rotation), np.cos(rotation), 0.0],\n",
    "                [0.0, 0.0, 1.0]])\n",
    "        eight_points = np.tile(translation, (8, 1))\n",
    "\n",
    "        corner_box = np.dot(rotation_matrix, bounding_box) + eight_points.transpose()\n",
    "        boxes3d_pts = corner_box.transpose()\n",
    "        boxes3d_pts = boxes3d_pts.T\n",
    "        boxes3d_pts = o3d.utility.Vector3dVector(boxes3d_pts.T)\n",
    "        box = o3d.geometry.OrientedBoundingBox.create_from_points(boxes3d_pts)\n",
    "        box.color = [1, 0, 0]           #Box color would be red box.color = [R,G,B]\n",
    "        entities_to_draw.append(box)\n",
    "        \n",
    "# gt_boxes 그리기\n",
    "for idx in range(len(gt_boxes)):\n",
    "        translation = gt_boxes[idx][:3]\n",
    "        w, l, h = gt_boxes[idx][3], gt_boxes[idx][4], gt_boxes[idx][5]\n",
    "        rotation = gt_boxes[idx][-1]\n",
    "\n",
    "        bounding_box = np.array([\n",
    "                        [-l/2, -l/2, l/2, l/2, -l/2, -l/2, l/2, l/2],\n",
    "                        [w/2, -w/2, -w/2, w/2, w/2, -w/2, -w/2, w/2],\n",
    "                        [-h/2, -h/2, -h/2, -h/2, h/2, h/2, h/2, h/2]]) \n",
    "        rotation_matrix = np.array([\n",
    "                [np.cos(rotation), -np.sin(rotation), 0.0],\n",
    "                [np.sin(rotation), np.cos(rotation), 0.0],\n",
    "                [0.0, 0.0, 1.0]])\n",
    "        eight_points = np.tile(translation, (8, 1))\n",
    "\n",
    "        corner_box = np.dot(rotation_matrix, bounding_box) + eight_points.transpose()\n",
    "        boxes3d_pts = corner_box.transpose()\n",
    "        boxes3d_pts = boxes3d_pts.T\n",
    "        boxes3d_pts = o3d.utility.Vector3dVector(boxes3d_pts.T)\n",
    "        box = o3d.geometry.OrientedBoundingBox.create_from_points(boxes3d_pts)\n",
    "        box.color = [0, 1, 0]           #Box color would be red box.color = [R,G,B]\n",
    "        entities_to_draw.append(box)\n",
    "draw([*entities_to_draw])"
   ]
  },
  {
   "cell_type": "code",
   "execution_count": 12,
   "metadata": {},
   "outputs": [],
   "source": [
    "import glob\n",
    "import os\n",
    "import sys\n",
    "import time\n",
    "import numpy as np\n",
    "import matplotlib.pyplot as plt"
   ]
  },
  {
   "cell_type": "code",
   "execution_count": 13,
   "metadata": {},
   "outputs": [],
   "source": [
    "class EvalResult:\n",
    "    def __init__(self, cfg, max_range, min_score, distance_threshold, save_loc):\n",
    "        # cls_int2name: cls 고유번호에서 이름으로 변환하는 딕셔너리\n",
    "        self.cls_int2name = {}\n",
    "        idx = 0\n",
    "        for i in range(len(cfg.tasks)):\n",
    "            head_classes = cfg.tasks[i]\n",
    "            class_names = head_classes['class_names']\n",
    "            for j, name in enumerate(class_names):\n",
    "                self.cls_int2name[idx+j] = name\n",
    "            idx += len(class_names)\n",
    "        \n",
    "        self.results_dict = {}\n",
    "        self.classes = [v for v in self.cls_int2name.values()]\n",
    "        for single_class in self.classes:\n",
    "            class_dict = {}\n",
    "            class_dict['class'] = single_class\n",
    "            class_dict['T_p'] = np.empty((0, 8))\n",
    "            class_dict['gt'] = np.empty((0, 7))\n",
    "            class_dict['total_N_pos'] = 0\n",
    "            class_dict['result'] = np.empty((0, 2))\n",
    "            class_dict['precision'] = []\n",
    "            class_dict['recall'] = []\n",
    "            self.results_dict[single_class] = class_dict\n",
    "        \n",
    "        self.total_N_pos = 0\n",
    "        self.max_range = max_range\n",
    "        self.score_threshold = min_score\n",
    "        self.distance_threshold_sq = distance_threshold**2\n",
    "        self.save_loc = save_loc\n",
    "\n",
    "    def compute_ap_curve(self, class_dict):\n",
    "        t_pos = 0\n",
    "        class_dict['precision'] = np.ones(class_dict['result'].shape[0]+2)\n",
    "        class_dict['recall'] = np.zeros(class_dict['result'].shape[0]+2)\n",
    "        sorted_detections = class_dict['result'][(-class_dict['result'][:, 1]).argsort(), :]\n",
    "        print(sorted_detections.shape)\n",
    "        for i, (result_bool, result_score) in enumerate(sorted_detections):\n",
    "            if result_bool == 1:\n",
    "                t_pos += 1\n",
    "            class_dict['precision'][i+1] = t_pos / (i + 1)\n",
    "            class_dict['recall'][i+1] = t_pos / class_dict['total_N_pos']\n",
    "        class_dict['precision'][i+2] = 0\n",
    "        class_dict['recall'][i+2] = class_dict['recall'][i+1]\n",
    "\n",
    "        ## Plot\n",
    "        plt.figure()\n",
    "        plt.plot(class_dict['recall'], class_dict['precision'])\n",
    "        plt.xlabel('Recall')\n",
    "        plt.ylabel('Precision')\n",
    "        plt.title('Precision Recall curve for {} Class'.format(class_dict['class']))\n",
    "        plt.xlim([0, 1])\n",
    "        plt.ylim([0, 1.05])\n",
    "        plt.savefig(self.save_loc + class_dict['class'] + \"_pr_curve.png\")\n",
    "\n",
    "    def compute_f1_score(self, precision, recall):\n",
    "        p, r = precision[(precision+recall) > 0], recall[(precision+recall) > 0]\n",
    "        f1_scores = 2 * p * r / (p + r)\n",
    "        return np.max(f1_scores)\n",
    "\n",
    "    def compute_mean_ap(self, precision, recall, precision_threshold=0.0, recall_threshold=0.0):\n",
    "        mean_ap = 0\n",
    "        threshold_mask = np.logical_and(precision > precision_threshold,\n",
    "                                        recall > recall_threshold)\n",
    "        # calculate mean AP\n",
    "        precision = precision[threshold_mask]\n",
    "        recall = recall[threshold_mask]\n",
    "        recall_diff = np.diff(recall)\n",
    "        precision_diff = np.diff(precision)\n",
    "        # Square area under curve based on i+1 precision, then linear difference in precision\n",
    "        mean_ap = np.sum(precision[1:]*recall_diff + recall_diff*precision_diff/2)\n",
    "        # We need to divide by (1-recall_threshold) to make the max possible mAP = 1. In practice threshold by the first\n",
    "        # considered recall value (threshold = 0.1 -> first considered value may be = 0.1123)\n",
    "        mean_ap = mean_ap/(1-recall[0])\n",
    "        return mean_ap\n",
    "\n",
    "    def compute_ate2d(self, predictions, ground_truth):\n",
    "        # euclidean distance 3d\n",
    "        mean_ate2d = np.mean(np.sqrt((predictions[:, 0] - ground_truth[:, 0])**2 +\n",
    "                                     (predictions[:, 1] - ground_truth[:, 1])**2))\n",
    "        return mean_ate2d\n",
    "\n",
    "    def compute_ate3d(self, predictions, ground_truth):\n",
    "        # euclidean distance 2d\n",
    "        mean_ate3d = np.mean(np.sqrt((predictions[:, 0] - ground_truth[:, 0]) ** 2 +\n",
    "                                     (predictions[:, 1] - ground_truth[:, 1]) ** 2 +\n",
    "                                     (predictions[:, 2] - ground_truth[:, 2]) ** 2))\n",
    "        return mean_ate3d\n",
    "\n",
    "    def compute_ase(self, predictions, ground_truth):\n",
    "        # simplified iou where boxes are centered and aligned with eachother\n",
    "        pred_vol = predictions[:, 3:6]\n",
    "        gt_vol = ground_truth[:, 3:6]\n",
    "        iou3d = np.mean(1 - np.prod(np.minimum(pred_vol, gt_vol), axis=1)/np.prod(np.maximum(pred_vol, gt_vol), axis=1))\n",
    "        return iou3d\n",
    "\n",
    "    def compute_aoe(self, predictions, ground_truth):\n",
    "        err = ground_truth[:,6] - predictions[:,6]\n",
    "        aoe = np.mean(np.abs((err + np.pi) % (2*np.pi) - np.pi))\n",
    "        return aoe\n",
    "\n",
    "    def output_to_evalform(self, cls_array, box_array, pred_score = None):\n",
    "        # class_id, x, y, z, l, w, h, r 순으로 배열 구성\n",
    "        N = cls_array.shape[0]\n",
    "        if pred_score is not None:\n",
    "            o_ary = np.zeros((N, 9))\n",
    "        else:\n",
    "            o_ary = np.zeros((N, 8))\n",
    "        for i in range(N):\n",
    "            o_ary[i][0] = cls_array[i]\n",
    "            o_ary[i][1] = box_array[i][0]\n",
    "            o_ary[i][2] = box_array[i][1]\n",
    "            o_ary[i][3] = box_array[i][2]\n",
    "            o_ary[i][4] = box_array[i][4]\n",
    "            o_ary[i][5] = box_array[i][3]\n",
    "            o_ary[i][6] = box_array[i][5]\n",
    "            o_ary[i][7] = box_array[i][-1]\n",
    "            if pred_score is not None:\n",
    "                o_ary[i][8] = pred_score[i]\n",
    "        return o_ary\n",
    "\n",
    "    def match_pairs(self, pred_label, gt_label):\n",
    "        true_preds = np.empty((0, 8))\n",
    "        corresponding_gt = np.empty((0, 7))\n",
    "        result_score = np.empty((0, 2))\n",
    "        # Initialize matching loop\n",
    "        match_incomplete = True\n",
    "        while match_incomplete and gt_label.shape[0] > 0:\n",
    "            match_incomplete = False\n",
    "            for gt_idx, single_gt_label in enumerate(gt_label):\n",
    "                # Check is any prediction is in range\n",
    "                distance_sq_array = (single_gt_label[0] - pred_label[:, 0])**2 + (single_gt_label[1] - pred_label[:, 1])**2\n",
    "                # If there is a prediction in range, pick closest\n",
    "                if np.any(distance_sq_array < self.distance_threshold_sq):\n",
    "                    min_idx = np.argmin(distance_sq_array)\n",
    "                    # Store true prediction\n",
    "                    true_preds = np.vstack((true_preds, pred_label[min_idx, :].reshape(-1, 1).T))\n",
    "                    corresponding_gt = np.vstack((corresponding_gt, gt_label[gt_idx]))\n",
    "\n",
    "                    # Store score for mAP\n",
    "                    result_score = np.vstack((result_score, np.array([[1, pred_label[min_idx, 7]]])))\n",
    "\n",
    "                    # Remove prediction and gt then reset loop\n",
    "                    pred_label = np.delete(pred_label, obj=min_idx, axis=0)\n",
    "                    gt_label = np.delete(gt_label, obj=gt_idx, axis=0)\n",
    "                    match_incomplete = True\n",
    "                    break\n",
    "\n",
    "        # If there were any false detections, add them.\n",
    "        if pred_label.shape[0] > 0:\n",
    "            false_positives = np.zeros((pred_label.shape[0], 2))\n",
    "            false_positives[:, 1] = pred_label[:, 7]\n",
    "            result_score = np.vstack((result_score, false_positives))\n",
    "        return true_preds, corresponding_gt, result_score\n",
    "\n",
    "    def eval_pair(self, pred_label, gt_label):\n",
    "        ## Check\n",
    "        assert pred_label.shape[1] == 9\n",
    "        assert gt_label.shape[1] == 8\n",
    "        if pred_label.shape[0] > 0:\n",
    "            pred_label = pred_label[pred_label[:, 8].astype(np.float32) > self.score_threshold, :]\n",
    "        \n",
    "        for single_class in self.classes:\n",
    "            # get all pred labels, order by score\n",
    "            class_pred_label = pred_label[np.array([self.cls_int2name[v.astype(np.int32)] == single_class for v in pred_label[:, 0]]), 1:]\n",
    "            score = class_pred_label[:, 7].astype(np.float32)\n",
    "            class_pred_label = class_pred_label[(-score).argsort(), :].astype(np.float32) # sort decreasing\n",
    "            \n",
    "            \n",
    "            # add gt label length to total_N_pos\n",
    "            class_gt_label = gt_label[np.array([self.cls_int2name[v.astype(np.int32)] == single_class for v in gt_label[:, 0]]), 1:].astype(np.float32)\n",
    "\n",
    "            self.results_dict[single_class]['total_N_pos'] += class_gt_label.shape[0]\n",
    "\n",
    "            # match pairs\n",
    "            pred_array, gt_array, result_score_pair = self.match_pairs(class_pred_label, class_gt_label)\n",
    "\n",
    "            # add to existing results\n",
    "            self.results_dict[single_class]['T_p'] = np.vstack((self.results_dict[single_class]['T_p'], pred_array))\n",
    "            self.results_dict[single_class]['gt'] = np.vstack((self.results_dict[single_class]['gt'], gt_array))\n",
    "            self.results_dict[single_class]['result'] = np.vstack((self.results_dict[single_class]['result'],\n",
    "                                                                   result_score_pair))\n",
    "    def evaluate(self, input_output):\n",
    "        print(\"Evaluation examples\")\n",
    "        for i in range(len(input_output[\"output_boxes\"])):\n",
    "            predictions = self.output_to_evalform(input_output[\"output_classes\"][i], input_output[\"output_boxes\"][i], \n",
    "                                                input_output[\"output_scores\"][i])\n",
    "            ground_truth = self.output_to_evalform(input_output[\"gt_classes\"][i], input_output[\"gt_boxes\"][i])\n",
    "            \n",
    "            self.eval_pair(predictions, ground_truth)\n",
    "        print(\"\\nDone!\")\n",
    "        print(\"----------------------------------\")\n",
    "        ## Calculate\n",
    "        for single_class in self.classes:\n",
    "            class_dict = self.results_dict[single_class]\n",
    "            print(\"Calculating metrics for {} class\".format(single_class))\n",
    "            print(\"----------------------------------\")\n",
    "            print(\"Number of ground truth labels: \", class_dict['total_N_pos'])\n",
    "            print(\"Number of detections:  \", class_dict['result'].shape[0])\n",
    "            print(\"Number of true positives:  \", np.sum(class_dict['result'][:, 0] == 1))\n",
    "            print(\"Number of false positives:  \", np.sum(class_dict['result'][:, 0] == 0))\n",
    "            if class_dict['total_N_pos'] == 0:\n",
    "                print(\"No detections for this class!\")\n",
    "                print(\" \")\n",
    "                continue\n",
    "            ## AP\n",
    "            self.compute_ap_curve(class_dict)\n",
    "            mean_ap = self.compute_mean_ap(class_dict['precision'], class_dict['recall'])\n",
    "            print('Mean AP: %.3f ' % mean_ap)\n",
    "            f1 = self.compute_f1_score(class_dict['precision'], class_dict['recall'])\n",
    "            print('F1 Score: %.3f ' % f1)\n",
    "            print(' ')\n",
    "            ## Positive Thresholds\n",
    "            # ATE 2D\n",
    "            ate2d = self.compute_ate2d(class_dict['T_p'], class_dict['gt'])\n",
    "            print('Average 2D Translation Error [m]:  %.4f ' % ate2d)\n",
    "            # ATE 3D\n",
    "            ate3d = self.compute_ate3d(class_dict['T_p'], class_dict['gt'])\n",
    "            print('Average 3D Translation Error [m]:  %.4f ' % ate3d)\n",
    "            # ASE\n",
    "            ase = self.compute_ase(class_dict['T_p'], class_dict['gt'])\n",
    "            print('Average Scale Error:  %.4f ' % ase)\n",
    "            # AOE\n",
    "            aoe = self.compute_aoe(class_dict['T_p'], class_dict['gt'])\n",
    "            print('Average Orientation Error [rad]:  %.4f ' % aoe)\n",
    "            print(\" \")"
   ]
  },
  {
   "cell_type": "code",
   "execution_count": 14,
   "metadata": {},
   "outputs": [],
   "source": [
    "evaluate = EvalResult(cfg, max_range=0.0, min_score=0.0, distance_threshold=1.0, save_loc=\"work_dirs/\")"
   ]
  },
  {
   "cell_type": "code",
   "execution_count": 15,
   "metadata": {},
   "outputs": [
    {
     "name": "stdout",
     "output_type": "stream",
     "text": [
      "Evaluation examples\n",
      "\n",
      "Done!\n",
      "----------------------------------\n",
      "Calculating metrics for car class\n",
      "----------------------------------\n",
      "Number of ground truth labels:  31092\n",
      "Number of detections:   38358\n",
      "Number of true positives:   26339\n",
      "Number of false positives:   12019\n",
      "(38358, 2)\n",
      "Mean AP: 0.846 \n",
      "F1 Score: 0.904 \n",
      " \n",
      "Average 2D Translation Error [m]:  0.1034 \n",
      "Average 3D Translation Error [m]:  0.1229 \n",
      "Average Scale Error:  0.0882 \n",
      "Average Orientation Error [rad]:  0.4069 \n",
      " \n",
      "Calculating metrics for personal_mobility class\n",
      "----------------------------------\n",
      "Number of ground truth labels:  0\n",
      "Number of detections:   3036\n",
      "Number of true positives:   0\n",
      "Number of false positives:   3036\n",
      "No detections for this class!\n",
      " \n",
      "Calculating metrics for truck class\n",
      "----------------------------------\n",
      "Number of ground truth labels:  703\n",
      "Number of detections:   1203\n",
      "Number of true positives:   641\n",
      "Number of false positives:   562\n",
      "(1203, 2)\n",
      "Mean AP: 0.906 \n",
      "F1 Score: 0.929 \n",
      " \n",
      "Average 2D Translation Error [m]:  0.0974 \n",
      "Average 3D Translation Error [m]:  0.1106 \n",
      "Average Scale Error:  0.0793 \n",
      "Average Orientation Error [rad]:  0.0612 \n",
      " \n",
      "Calculating metrics for construction_vehicle class\n",
      "----------------------------------\n",
      "Number of ground truth labels:  0\n",
      "Number of detections:   4\n",
      "Number of true positives:   0\n",
      "Number of false positives:   4\n",
      "No detections for this class!\n",
      " \n",
      "Calculating metrics for bus class\n",
      "----------------------------------\n",
      "Number of ground truth labels:  383\n",
      "Number of detections:   149\n",
      "Number of true positives:   121\n",
      "Number of false positives:   28\n",
      "(149, 2)\n",
      "Mean AP: 0.314 \n",
      "F1 Score: 0.477 \n",
      " \n",
      "Average 2D Translation Error [m]:  0.1560 \n",
      "Average 3D Translation Error [m]:  0.1747 \n",
      "Average Scale Error:  0.0560 \n",
      "Average Orientation Error [rad]:  0.1231 \n",
      " \n",
      "Calculating metrics for ground_animal class\n",
      "----------------------------------\n",
      "Number of ground truth labels:  0\n",
      "Number of detections:   5\n",
      "Number of true positives:   0\n",
      "Number of false positives:   5\n",
      "No detections for this class!\n",
      " \n",
      "Calculating metrics for motorcycle class\n",
      "----------------------------------\n",
      "Number of ground truth labels:  68\n",
      "Number of detections:   9880\n",
      "Number of true positives:   47\n",
      "Number of false positives:   9833\n",
      "(9880, 2)\n",
      "Mean AP: 0.660 \n",
      "F1 Score: 0.750 \n",
      " \n",
      "Average 2D Translation Error [m]:  0.1039 \n",
      "Average 3D Translation Error [m]:  0.1190 \n",
      "Average Scale Error:  0.1538 \n",
      "Average Orientation Error [rad]:  0.0958 \n",
      " \n",
      "Calculating metrics for bicycle class\n",
      "----------------------------------\n",
      "Number of ground truth labels:  0\n",
      "Number of detections:   260\n",
      "Number of true positives:   0\n",
      "Number of false positives:   260\n",
      "No detections for this class!\n",
      " \n",
      "Calculating metrics for pedestrian class\n",
      "----------------------------------\n",
      "Number of ground truth labels:  0\n",
      "Number of detections:   3550\n",
      "Number of true positives:   0\n",
      "Number of false positives:   3550\n",
      "No detections for this class!\n",
      " \n"
     ]
    },
    {
     "data": {
      "image/png": "[encoded data removed]",
      "text/plain": [
       "<Figure size 640x480 with 1 Axes>"
      ]
     },
     "metadata": {},
     "output_type": "display_data"
    },
    {
     "data": {
      "image/png": "[encoded data removed]",
      "text/plain": [
       "<Figure size 640x480 with 1 Axes>"
      ]
     },
     "metadata": {},
     "output_type": "display_data"
    },
    {
     "data": {
      "image/png": "[encoded data removed]",
      "text/plain": [
       "<Figure size 640x480 with 1 Axes>"
      ]
     },
     "metadata": {},
     "output_type": "display_data"
    },
    {
     "data": {
      "image/png": "[encoded data removed]",
      "text/plain": [
       "<Figure size 640x480 with 1 Axes>"
      ]
     },
     "metadata": {},
     "output_type": "display_data"
    },
    {
     "name": "stderr",
     "output_type": "stream",
     "text": [
      "[010:374][877043] (stun_port.cc:96): Binding request timed out from 10.42.0.x:34317 (enp5s0)\n",
      "[010:374][877043] (stun_port.cc:96): Binding request timed out from 10.42.0.x:34317 (enp5s0)\n"
     ]
    }
   ],
   "source": [
    "evaluate.evaluate(input_output)"
   ]
  },
  {
   "cell_type": "code",
   "execution_count": null,
   "metadata": {},
   "outputs": [],
   "source": [
    "# def pt_to_xyz(fp):\n",
    "#     x = []\n",
    "#     y = []\n",
    "#     z = []\n",
    "#     # fp = np.fromfile(fname, dtype=np.float32)\n",
    "#     # fp = fp.reshape(-1,3)\n",
    "#     for i in range(fp.shape[0]):\n",
    "#         x.append(fp[i][0])\n",
    "#         y.append(fp[i][1])\n",
    "#         z.append(fp[i][2])\n",
    "#     return x,y,z\n",
    "\n",
    "# def writePCDFile(fname,x,y,z):\n",
    "#     numPoints= len(x)\n",
    "#     with open(fname, 'w') as fp:\n",
    "#         fp.write(\"VERSION 0.7\\n\")\n",
    "#         fp.write(\"FIELDS x y z\\n\")\n",
    "#         fp.write(\"SIZE 4 4 4\\n\")\n",
    "#         fp.write(\"TYPE F F F\\n\")\n",
    "#         fp.write(\"WIDTH \"+str(numPoints)+\"\\n\")\n",
    "#         fp.write(\"HEIGHT 1\\n\")\n",
    "#         fp.write(\"POINTS \"+str(numPoints)+\"\\n\")\n",
    "#         fp.write(\"DATA ascii\\n\")\n",
    "#         for index in range(numPoints):\n",
    "#             txtLine = \"{} {} {}\\n\".format(x[index],y[index],z[index] )\n",
    "#             fp.write(txtLine)\n",
    "#         pass\n",
    "# rt = \"/home/jaelee/objdect/CenterPoint/etri3Deval\"\n",
    "# x,y,z =pt_to_xyz(data_batch['points'][0].cpu().numpy())\n",
    "# idx_p = 0\n",
    "# pth = Path(f\"ex{idx_p}\")\n",
    "# pcd_name = rt / pth.with_suffix('.pcd')\n",
    "# writePCDFile(pcd_name,x,y,z)"
   ]
  },
  {
   "cell_type": "markdown",
   "metadata": {},
   "source": [
    "### visualize\n"
   ]
  },
  {
   "cell_type": "code",
   "execution_count": 23,
   "metadata": {},
   "outputs": [],
   "source": [
    "def pt_to_xyz(fp):\n",
    "    x = []\n",
    "    y = []\n",
    "    z = []\n",
    "    # fp = np.fromfile(fname, dtype=np.float32)\n",
    "    # fp = fp.reshape(-1,3)\n",
    "    for i in range(fp.shape[0]):\n",
    "        x.append(fp[i][0])\n",
    "        y.append(fp[i][1])\n",
    "        z.append(fp[i][2])\n",
    "    return x,y,z\n",
    "\n",
    "def writePCDFile(fname,x,y,z):\n",
    "    numPoints= len(x)\n",
    "    with open(fname, 'w') as fp:\n",
    "        fp.write(\"VERSION 0.7\\n\")\n",
    "        fp.write(\"FIELDS x y z\\n\")\n",
    "        fp.write(\"SIZE 4 4 4\\n\")\n",
    "        fp.write(\"TYPE F F F\\n\")\n",
    "        fp.write(\"WIDTH \"+str(numPoints)+\"\\n\")\n",
    "        fp.write(\"HEIGHT 1\\n\")\n",
    "        fp.write(\"POINTS \"+str(numPoints)+\"\\n\")\n",
    "        fp.write(\"DATA ascii\\n\")\n",
    "        for index in range(numPoints):\n",
    "            txtLine = \"{} {} {}\\n\".format(x[index],y[index],z[index] )\n",
    "            fp.write(txtLine)\n",
    "        pass\n"
   ]
  },
  {
   "cell_type": "code",
   "execution_count": 24,
   "metadata": {},
   "outputs": [],
   "source": [
    "rt = \"/home/jaelee/objdect/CenterPoint/etri3Deval\"\n",
    "x,y,z =pt_to_xyz(data_batch['points'][0].cpu().numpy())\n",
    "idx_p = 0\n",
    "pth = Path(f\"ex{idx_p}\")\n",
    "pcd_name = rt / pth.with_suffix('.pcd')\n",
    "writePCDFile(pcd_name,x,y,z)"
   ]
  },
  {
   "cell_type": "code",
   "execution_count": 25,
   "metadata": {},
   "outputs": [],
   "source": [
    "pred_boxes = output['box3d_lidar'].cpu().numpy()"
   ]
  },
  {
   "cell_type": "code",
   "execution_count": 26,
   "metadata": {},
   "outputs": [
    {
     "name": "stdout",
     "output_type": "stream",
     "text": [
      "Jupyter environment detected. Enabling Open3D WebVisualizer.\n",
      "[Open3D INFO] WebRTC GUI backend enabled.\n",
      "[Open3D INFO] WebRTCWindowSystem: HTTP handshake server disabled.\n",
      "[Open3D INFO] Resetting default logger to print to terminal.\n",
      "[Open3D INFO] Window window_0 created.\n",
      "[Open3D INFO] EGL headless mode enabled.\n",
      "[Open3D INFO] ICE servers: [\"stun:stun.l.google.com:19302\", \"turn:user:password@34.69.27.100:3478\", \"turn:user:password@34.69.27.100:3478?transport=tcp\"]\n",
      "FEngine (64 bits) created at 0x7f469c00a5c0 (threading is enabled)\n",
      "[Open3D INFO] Set WEBRTC_STUN_SERVER environment variable add a customized WebRTC STUN server.\n",
      "[Open3D INFO] WebRTC Jupyter handshake mode enabled.\n",
      "EGL(1.5)\n",
      "OpenGL(4.1)\n"
     ]
    },
    {
     "data": {
      "application/vnd.jupyter.widget-view+json": {
       "model_id": "173dae25562848229bb5e52baff5505f",
       "version_major": 2,
       "version_minor": 0
      },
      "text/plain": [
       "WebVisualizer(window_uid='window_0')"
      ]
     },
     "metadata": {},
     "output_type": "display_data"
    },
    {
     "name": "stdout",
     "output_type": "stream",
     "text": [
      "[Open3D INFO] Sending init frames to window_0.\n"
     ]
    }
   ],
   "source": [
    "import open3d as o3d\n",
    "from open3d.web_visualizer import draw\n",
    "points_v = data_batch[\"points\"][0]\n",
    "mesh_frame = o3d.geometry.TriangleMesh.create_coordinate_frame(size=2, origin=[0,0,0])\n",
    "pcd = o3d.geometry.PointCloud()\n",
    "pcd.points = o3d.utility.Vector3dVector(points_v)\n",
    "entities_to_draw = [pcd, mesh_frame]\n",
    "# for idx in range(gt_boxes.shape[0]):\n",
    "# idx = 0\n",
    "for idx in range(len(pred_boxes)):\n",
    "        if output['scores'].cpu().numpy()[idx] <= 0.2:\n",
    "                continue\n",
    "        translation = pred_boxes[idx][:3]\n",
    "        w, l, h = pred_boxes[idx][3], pred_boxes[idx][4], pred_boxes[idx][5]\n",
    "        rotation = pred_boxes[idx][-1]\n",
    "\n",
    "        bounding_box = np.array([\n",
    "                        [-l/2, -l/2, l/2, l/2, -l/2, -l/2, l/2, l/2],\n",
    "                        [w/2, -w/2, -w/2, w/2, w/2, -w/2, -w/2, w/2],\n",
    "                        [-h/2, -h/2, -h/2, -h/2, h/2, h/2, h/2, h/2]]) \n",
    "        rotation_matrix = np.array([\n",
    "                [np.cos(rotation), -np.sin(rotation), 0.0],\n",
    "                [np.sin(rotation), np.cos(rotation), 0.0],\n",
    "                [0.0, 0.0, 1.0]])\n",
    "        eight_points = np.tile(translation, (8, 1))\n",
    "\n",
    "        corner_box = np.dot(rotation_matrix, bounding_box) + eight_points.transpose()\n",
    "        boxes3d_pts = corner_box.transpose()\n",
    "        boxes3d_pts = boxes3d_pts.T\n",
    "        boxes3d_pts = o3d.utility.Vector3dVector(boxes3d_pts.T)\n",
    "        box = o3d.geometry.OrientedBoundingBox.create_from_points(boxes3d_pts)\n",
    "        box.color = [1, 0, 0]           #Box color would be red box.color = [R,G,B]\n",
    "        entities_to_draw.append(box)\n",
    "draw([*entities_to_draw])\n"
   ]
  },
  {
   "cell_type": "code",
   "execution_count": 85,
   "metadata": {},
   "outputs": [
    {
     "data": {
      "text/plain": [
       "[tensor([[[-2.6418e+01,  4.0977e+00,  5.0232e-01,  2.1176e+00,  4.2946e+00,\n",
       "            1.9041e+00,  0.0000e+00,  0.0000e+00, -4.0526e-01],\n",
       "          [-2.4271e+01, -6.3866e+00, -4.5998e-01,  2.0639e+00,  4.8000e+00,\n",
       "            1.4675e+00,  0.0000e+00,  0.0000e+00, -4.3944e-01],\n",
       "          [-3.0731e+01, -5.4525e-02,  1.6352e-01,  2.1337e+00,  4.0709e+00,\n",
       "            1.5520e+00,  0.0000e+00,  0.0000e+00, -3.2496e-01],\n",
       "          [-3.3297e+01, -2.6228e+00,  2.7764e-02,  2.1313e+00,  4.6480e+00,\n",
       "            1.6065e+00,  0.0000e+00,  0.0000e+00, -2.9202e-01],\n",
       "          [ 1.1769e+01,  2.8165e+00, -1.0595e+00,  2.2000e+00,  5.2000e+00,\n",
       "            1.5000e+00,  0.0000e+00,  0.0000e+00, -2.3089e+00],\n",
       "          [-1.8377e+01,  3.4050e+00, -1.0897e-01,  2.0636e+00,  4.6314e+00,\n",
       "            1.8000e+00,  0.0000e+00,  0.0000e+00, -1.0142e+00],\n",
       "          [ 3.2146e+01,  2.3866e+01, -9.6893e-01,  2.1237e+00,  4.7618e+00,\n",
       "            1.8000e+00,  0.0000e+00,  0.0000e+00, -2.3182e+00],\n",
       "          [-2.5798e+01, -6.5100e+01, -1.3024e+00,  2.2000e+00,  4.9000e+00,\n",
       "            1.5000e+00,  0.0000e+00,  0.0000e+00,  8.4219e-01]]],\n",
       "        dtype=torch.float64),\n",
       " tensor([], size=(1, 0, 9), dtype=torch.float64),\n",
       " tensor([], size=(1, 0, 9), dtype=torch.float64),\n",
       " tensor([], size=(1, 0, 9), dtype=torch.float64),\n",
       " tensor([], size=(1, 0, 9), dtype=torch.float64),\n",
       " tensor([], size=(1, 0, 9), dtype=torch.float64)]"
      ]
     },
     "execution_count": 85,
     "metadata": {},
     "output_type": "execute_result"
    }
   ],
   "source": [
    "data_batch['anno_box']"
   ]
  },
  {
   "cell_type": "code",
   "execution_count": 88,
   "metadata": {},
   "outputs": [
    {
     "data": {
      "text/plain": [
       "{'metadata': [{'image_prefix': PosixPath('data/etri3Dobj_infra_edge'),\n",
       "   'num_point_features': 3}],\n",
       " 'points': [tensor([[-3.0760e-04,  1.4686e-01,  3.9207e-02],\n",
       "          [ 1.2478e-04,  1.4299e-01,  3.8175e-02],\n",
       "          [ 6.5157e-04,  1.6231e-01,  4.3334e-02],\n",
       "          ...,\n",
       "          [-1.8865e-03,  1.4606e-01, -4.2040e-02],\n",
       "          [-1.2774e-03,  1.3069e-01, -3.7614e-02],\n",
       "          [-8.9228e-04,  1.3454e-01, -3.8721e-02]])],\n",
       " 'voxels': tensor([[[-3.0760e-04,  1.4686e-01,  3.9207e-02],\n",
       "          [-5.6092e-02,  1.8087e-01,  5.0557e-02],\n",
       "          [-5.6657e-02,  1.8474e-01,  5.1588e-02],\n",
       "          ...,\n",
       "          [-3.7470e-02,  1.6586e-01,  4.5398e-02],\n",
       "          [-3.2750e-02,  1.4712e-01,  4.0239e-02],\n",
       "          [-3.6428e-02,  1.6610e-01,  4.5398e-02]],\n",
       " \n",
       "         [[ 1.2478e-04,  1.4299e-01,  3.8175e-02],\n",
       "          [ 6.5157e-04,  1.6231e-01,  4.3334e-02],\n",
       "          [ 1.0785e-03,  1.5072e-01,  4.0239e-02],\n",
       "          ...,\n",
       "          [ 8.5964e-03,  1.5822e-01,  4.2303e-02],\n",
       "          [ 9.5370e-03,  1.6591e-01,  4.4366e-02],\n",
       "          [ 9.1225e-03,  1.5044e-01,  4.0239e-02]],\n",
       " \n",
       "         [[ 1.0829e+00,  1.0017e+01,  2.6898e+00],\n",
       "          [ 1.0974e+00,  1.0151e+01,  2.5333e+00],\n",
       "          [ 1.1263e+00,  1.0121e+01,  2.5265e+00],\n",
       "          ...,\n",
       "          [ 0.0000e+00,  0.0000e+00,  0.0000e+00],\n",
       "          [ 0.0000e+00,  0.0000e+00,  0.0000e+00],\n",
       "          [ 0.0000e+00,  0.0000e+00,  0.0000e+00]],\n",
       " \n",
       "         ...,\n",
       " \n",
       "         [[-2.7952e+00,  1.6164e+00, -9.2930e-01],\n",
       "          [ 0.0000e+00,  0.0000e+00,  0.0000e+00],\n",
       "          [ 0.0000e+00,  0.0000e+00,  0.0000e+00],\n",
       "          ...,\n",
       "          [ 0.0000e+00,  0.0000e+00,  0.0000e+00],\n",
       "          [ 0.0000e+00,  0.0000e+00,  0.0000e+00],\n",
       "          [ 0.0000e+00,  0.0000e+00,  0.0000e+00]],\n",
       " \n",
       "         [[-2.4661e+00,  1.9999e+00, -9.1381e-01],\n",
       "          [ 0.0000e+00,  0.0000e+00,  0.0000e+00],\n",
       "          [ 0.0000e+00,  0.0000e+00,  0.0000e+00],\n",
       "          ...,\n",
       "          [ 0.0000e+00,  0.0000e+00,  0.0000e+00],\n",
       "          [ 0.0000e+00,  0.0000e+00,  0.0000e+00],\n",
       "          [ 0.0000e+00,  0.0000e+00,  0.0000e+00]],\n",
       " \n",
       "         [[-2.0928e+00,  2.5937e+00, -9.5917e-01],\n",
       "          [ 0.0000e+00,  0.0000e+00,  0.0000e+00],\n",
       "          [ 0.0000e+00,  0.0000e+00,  0.0000e+00],\n",
       "          ...,\n",
       "          [ 0.0000e+00,  0.0000e+00,  0.0000e+00],\n",
       "          [ 0.0000e+00,  0.0000e+00,  0.0000e+00],\n",
       "          [ 0.0000e+00,  0.0000e+00,  0.0000e+00]]]),\n",
       " 'shape': array([[512, 512,   1]]),\n",
       " 'num_points': tensor([20, 20,  7,  ...,  1,  1,  1], dtype=torch.int32),\n",
       " 'num_voxels': tensor([8622]),\n",
       " 'coordinates': tensor([[  0,   0, 256, 255],\n",
       "         [  0,   0, 256, 256],\n",
       "         [  0,   0, 306, 261],\n",
       "         ...,\n",
       "         [  0,   0, 264, 242],\n",
       "         [  0,   0, 265, 243],\n",
       "         [  0,   0, 268, 245]], dtype=torch.int32),\n",
       " 'anno_box': [tensor([[[-2.6418e+01,  4.0977e+00,  5.0232e-01,  2.1176e+00,  4.2946e+00,\n",
       "             1.9041e+00,  0.0000e+00,  0.0000e+00, -4.0526e-01],\n",
       "           [-2.4271e+01, -6.3866e+00, -4.5998e-01,  2.0639e+00,  4.8000e+00,\n",
       "             1.4675e+00,  0.0000e+00,  0.0000e+00, -4.3944e-01],\n",
       "           [-3.0731e+01, -5.4525e-02,  1.6352e-01,  2.1337e+00,  4.0709e+00,\n",
       "             1.5520e+00,  0.0000e+00,  0.0000e+00, -3.2496e-01],\n",
       "           [-3.3297e+01, -2.6228e+00,  2.7764e-02,  2.1313e+00,  4.6480e+00,\n",
       "             1.6065e+00,  0.0000e+00,  0.0000e+00, -2.9202e-01],\n",
       "           [ 1.1769e+01,  2.8165e+00, -1.0595e+00,  2.2000e+00,  5.2000e+00,\n",
       "             1.5000e+00,  0.0000e+00,  0.0000e+00, -2.3089e+00],\n",
       "           [-1.8377e+01,  3.4050e+00, -1.0897e-01,  2.0636e+00,  4.6314e+00,\n",
       "             1.8000e+00,  0.0000e+00,  0.0000e+00, -1.0142e+00],\n",
       "           [ 3.2146e+01,  2.3866e+01, -9.6893e-01,  2.1237e+00,  4.7618e+00,\n",
       "             1.8000e+00,  0.0000e+00,  0.0000e+00, -2.3182e+00],\n",
       "           [-2.5798e+01, -6.5100e+01, -1.3024e+00,  2.2000e+00,  4.9000e+00,\n",
       "             1.5000e+00,  0.0000e+00,  0.0000e+00,  8.4219e-01]]],\n",
       "         dtype=torch.float64),\n",
       "  tensor([], size=(1, 0, 9), dtype=torch.float64),\n",
       "  tensor([], size=(1, 0, 9), dtype=torch.float64),\n",
       "  tensor([], size=(1, 0, 9), dtype=torch.float64),\n",
       "  tensor([], size=(1, 0, 9), dtype=torch.float64),\n",
       "  tensor([], size=(1, 0, 9), dtype=torch.float64)],\n",
       " 'anno_cls': array([[array([1, 1, 1, 1, 1, 1, 1, 1], dtype=int32),\n",
       "         array([], dtype=int32), array([], dtype=int32),\n",
       "         array([], dtype=int32), array([], dtype=int32),\n",
       "         array([], dtype=int32)]], dtype=object)}"
      ]
     },
     "execution_count": 88,
     "metadata": {},
     "output_type": "execute_result"
    }
   ],
   "source": [
    "data_batch"
   ]
  },
  {
   "cell_type": "code",
   "execution_count": 27,
   "metadata": {},
   "outputs": [
    {
     "name": "stdout",
     "output_type": "stream",
     "text": [
      "[Open3D INFO] Window window_1 created.\n"
     ]
    },
    {
     "data": {
      "application/vnd.jupyter.widget-view+json": {
       "model_id": "afce02b4be9c4ef1bb3f2608c816d017",
       "version_major": 2,
       "version_minor": 0
      },
      "text/plain": [
       "WebVisualizer(window_uid='window_1')"
      ]
     },
     "metadata": {},
     "output_type": "display_data"
    },
    {
     "name": "stdout",
     "output_type": "stream",
     "text": [
      "[Open3D INFO] Sending init frames to window_1.\n"
     ]
    }
   ],
   "source": [
    "gt_boxes = []\n",
    "for ts in data_batch['anno_box']:\n",
    "    ts = ts[0]\n",
    "    gt_boxes.extend(ts.cpu().numpy())\n",
    "points_v = data_batch[\"points\"][0]\n",
    "mesh_frame = o3d.geometry.TriangleMesh.create_coordinate_frame(size=2, origin=[0,0,0])\n",
    "pcd = o3d.geometry.PointCloud()\n",
    "pcd.points = o3d.utility.Vector3dVector(points_v)\n",
    "entities_to_draw = [pcd, mesh_frame]\n",
    "# for idx in range(gt_boxes.shape[0]):\n",
    "# idx = 0\n",
    "for idx in range(len(gt_boxes)):\n",
    "        translation = gt_boxes[idx][:3]\n",
    "        w, l, h = gt_boxes[idx][3], gt_boxes[idx][4], gt_boxes[idx][5]\n",
    "        rotation = gt_boxes[idx][-1]\n",
    "\n",
    "        bounding_box = np.array([\n",
    "                        [-l/2, -l/2, l/2, l/2, -l/2, -l/2, l/2, l/2],\n",
    "                        [w/2, -w/2, -w/2, w/2, w/2, -w/2, -w/2, w/2],\n",
    "                        [-h/2, -h/2, -h/2, -h/2, h/2, h/2, h/2, h/2]]) \n",
    "        rotation_matrix = np.array([\n",
    "                [np.cos(rotation), -np.sin(rotation), 0.0],\n",
    "                [np.sin(rotation), np.cos(rotation), 0.0],\n",
    "                [0.0, 0.0, 1.0]])\n",
    "        eight_points = np.tile(translation, (8, 1))\n",
    "\n",
    "        corner_box = np.dot(rotation_matrix, bounding_box) + eight_points.transpose()\n",
    "        boxes3d_pts = corner_box.transpose()\n",
    "        boxes3d_pts = boxes3d_pts.T\n",
    "        boxes3d_pts = o3d.utility.Vector3dVector(boxes3d_pts.T)\n",
    "        box = o3d.geometry.OrientedBoundingBox.create_from_points(boxes3d_pts)\n",
    "        box.color = [0, 1, 0]           #Box color would be red box.color = [R,G,B]\n",
    "        entities_to_draw.append(box)\n",
    "draw([*entities_to_draw])\n"
   ]
  },
  {
   "cell_type": "markdown",
   "metadata": {},
   "source": [
    "### metric evaluation"
   ]
  },
  {
   "cell_type": "code",
   "execution_count": 33,
   "metadata": {},
   "outputs": [
    {
     "data": {
      "text/plain": [
       "[{'num_class': 2, 'class_names': ['car', 'personal_mobility']},\n",
       " {'num_class': 2, 'class_names': ['truck', 'construction_vehicle']},\n",
       " {'num_class': 1, 'class_names': ['bus']},\n",
       " {'num_class': 1, 'class_names': ['ground_animal']},\n",
       " {'num_class': 2, 'class_names': ['motorcycle', 'bicycle']},\n",
       " {'num_class': 1, 'class_names': ['pedestrian']}]"
      ]
     },
     "execution_count": 33,
     "metadata": {},
     "output_type": "execute_result"
    }
   ],
   "source": [
    "cfg.tasks"
   ]
  },
  {
   "cell_type": "code",
   "execution_count": 34,
   "metadata": {},
   "outputs": [
    {
     "data": {
      "text/plain": [
       "array([[array([1, 1, 1, 1, 1, 1, 1, 1], dtype=int32),\n",
       "        array([], dtype=int32), array([], dtype=int32),\n",
       "        array([], dtype=int32), array([], dtype=int32),\n",
       "        array([], dtype=int32)]], dtype=object)"
      ]
     },
     "execution_count": 34,
     "metadata": {},
     "output_type": "execute_result"
    }
   ],
   "source": [
    "data_batch['anno_cls']"
   ]
  },
  {
   "cell_type": "code",
   "execution_count": 35,
   "metadata": {},
   "outputs": [
    {
     "data": {
      "text/plain": [
       "{0: 'car',\n",
       " 1: 'personal_mobility',\n",
       " 2: 'truck',\n",
       " 3: 'construction_vehicle',\n",
       " 4: 'bus',\n",
       " 5: 'ground_animal',\n",
       " 6: 'motorcycle',\n",
       " 7: 'bicycle',\n",
       " 8: 'pedestrian'}"
      ]
     },
     "execution_count": 35,
     "metadata": {},
     "output_type": "execute_result"
    }
   ],
   "source": [
    "# cls_int2name: cls 고유번호에서 이름으로 변환하는 딕셔너리\n",
    "cls_int2name = {}\n",
    "idx = 0\n",
    "for i in range(len(cfg.tasks)):\n",
    "    head_classes = cfg.tasks[i]\n",
    "    class_names = head_classes['class_names']\n",
    "    for j, name in enumerate(class_names):\n",
    "        cls_int2name[idx+j] = name\n",
    "    idx += len(class_names)\n",
    "cls_int2name"
   ]
  },
  {
   "cell_type": "code",
   "execution_count": 90,
   "metadata": {},
   "outputs": [
    {
     "data": {
      "text/plain": [
       "(1, 6)"
      ]
     },
     "execution_count": 90,
     "metadata": {},
     "output_type": "execute_result"
    }
   ],
   "source": [
    "data_batch['anno_cls'].shape"
   ]
  },
  {
   "cell_type": "code",
   "execution_count": 36,
   "metadata": {},
   "outputs": [
    {
     "data": {
      "text/plain": [
       "array([array([1, 1, 1, 1, 1, 1, 1, 1], dtype=int32),\n",
       "       array([], dtype=int32), array([], dtype=int32),\n",
       "       array([], dtype=int32), array([], dtype=int32),\n",
       "       array([], dtype=int32)], dtype=object)"
      ]
     },
     "execution_count": 36,
     "metadata": {},
     "output_type": "execute_result"
    }
   ],
   "source": [
    "data_batch['anno_cls'][0]"
   ]
  },
  {
   "cell_type": "code",
   "execution_count": 37,
   "metadata": {},
   "outputs": [
    {
     "data": {
      "text/plain": [
       "array([0, 0, 0, 0, 0, 0, 0, 0])"
      ]
     },
     "execution_count": 37,
     "metadata": {},
     "output_type": "execute_result"
    }
   ],
   "source": [
    "# data_batch['anno_cls'] 변환\n",
    "input_cls_id = []\n",
    "idx = 0\n",
    "for i in range(data_batch['anno_cls'][0].shape[0]):\n",
    "    head_classes = cfg.tasks[i]\n",
    "    class_names = head_classes['class_names']\n",
    "    head_class_ids = data_batch['anno_cls'][0][i]\n",
    "    for j in range(len(head_class_ids)):\n",
    "        _id = head_class_ids[j] - 1\n",
    "        input_cls_id.append(idx+_id)\n",
    "    idx += len(class_names)\n",
    "input_cls_id = np.array(input_cls_id)\n",
    "input_cls_id"
   ]
  },
  {
   "cell_type": "code",
   "execution_count": 39,
   "metadata": {},
   "outputs": [],
   "source": [
    "distance_threshold = 1.0\n",
    "save_loc = 'work_dirs/'\n",
    "distance_threshold_sq = distance_threshold**2\n",
    "score_threshold = min_score = 0.0\n",
    "max_range = max_range = 0.0\n",
    "classes = [v for v in cls_int2name.values()]\n",
    "total_N_pos = 0\n",
    "results_dict = {}\n",
    "for single_class in classes:\n",
    "    class_dict = {}\n",
    "    class_dict['class'] = single_class\n",
    "    class_dict['T_p'] = np.empty((0, 8))\n",
    "    class_dict['gt'] = np.empty((0, 7))\n",
    "    class_dict['total_N_pos'] = 0\n",
    "    class_dict['result'] = np.empty((0, 2))\n",
    "    class_dict['precision'] = []\n",
    "    class_dict['recall'] = []\n",
    "    results_dict[single_class] = class_dict\n",
    "time = time.time()\n",
    "# self.evaluate(pred_label_path, gt_label_path, label_format)\n",
    "# file_parsing: class_id, x, y, z, l, w, h, r 순으로 배열 구성\n",
    "\n",
    "def output_to_evalform(cls_array, box_array, pred_score = None):\n",
    "    # class_id, x, y, z, l, w, h, r 순으로 배열 구성\n",
    "    N = cls_array.shape[0]\n",
    "    if pred_score is not None:\n",
    "        o_ary = np.zeros((N, 9))\n",
    "    else:\n",
    "        o_ary = np.zeros((N, 8))\n",
    "    for i in range(N):\n",
    "        o_ary[i][0] = cls_array[i]\n",
    "        o_ary[i][1] = box_array[i][0]\n",
    "        o_ary[i][2] = box_array[i][1]\n",
    "        o_ary[i][3] = box_array[i][2]\n",
    "        o_ary[i][4] = box_array[i][4]\n",
    "        o_ary[i][5] = box_array[i][3]\n",
    "        o_ary[i][6] = box_array[i][5]\n",
    "        o_ary[i][7] = box_array[i][-1]\n",
    "        if pred_score is not None:\n",
    "            o_ary[i][8] = pred_score[i]\n",
    "    return o_ary\n",
    "predictions = output_to_evalform(output['label_preds'].cpu().numpy(), output['box3d_lidar'].cpu().numpy(), output['scores'].cpu().numpy())\n",
    "ground_truth = output_to_evalform(input_cls_id, np.stack(gt_boxes))"
   ]
  },
  {
   "cell_type": "code",
   "execution_count": 13,
   "metadata": {},
   "outputs": [
    {
     "data": {
      "text/plain": [
       "tensor([0, 0, 0, 0, 0, 0, 0, 0, 0, 0, 0, 1, 0, 6, 6, 6, 8, 8, 8],\n",
       "       device='cuda:0')"
      ]
     },
     "execution_count": 13,
     "metadata": {},
     "output_type": "execute_result"
    }
   ],
   "source": [
    "output['label_preds']"
   ]
  },
  {
   "cell_type": "code",
   "execution_count": 42,
   "metadata": {},
   "outputs": [
    {
     "data": {
      "text/plain": [
       "((18, 9), (8, 8))"
      ]
     },
     "execution_count": 42,
     "metadata": {},
     "output_type": "execute_result"
    }
   ],
   "source": [
    "predictions.shape, ground_truth.shape"
   ]
  },
  {
   "cell_type": "code",
   "execution_count": 43,
   "metadata": {},
   "outputs": [
    {
     "name": "stderr",
     "output_type": "stream",
     "text": [
      "/tmp/ipykernel_867164/1980593778.py:41: DeprecationWarning: `np.float` is a deprecated alias for the builtin `float`. To silence this warning, use `float` by itself. Doing this will not modify any behavior and is safe. If you specifically wanted the numpy scalar type, use `np.float64` here.\n",
      "Deprecated in NumPy 1.20; for more details and guidance: https://numpy.org/devdocs/release/1.20.0-notes.html#deprecations\n",
      "  pred_label = pred_label[pred_label[:, 8].astype(np.float) > score_threshold, :]\n",
      "/tmp/ipykernel_867164/1980593778.py:46: DeprecationWarning: `np.float` is a deprecated alias for the builtin `float`. To silence this warning, use `float` by itself. Doing this will not modify any behavior and is safe. If you specifically wanted the numpy scalar type, use `np.float64` here.\n",
      "Deprecated in NumPy 1.20; for more details and guidance: https://numpy.org/devdocs/release/1.20.0-notes.html#deprecations\n",
      "  score = class_pred_label[:, 7].astype(np.float)\n",
      "/tmp/ipykernel_867164/1980593778.py:47: DeprecationWarning: `np.float` is a deprecated alias for the builtin `float`. To silence this warning, use `float` by itself. Doing this will not modify any behavior and is safe. If you specifically wanted the numpy scalar type, use `np.float64` here.\n",
      "Deprecated in NumPy 1.20; for more details and guidance: https://numpy.org/devdocs/release/1.20.0-notes.html#deprecations\n",
      "  class_pred_label = class_pred_label[(-score).argsort(), :].astype(np.float) # sort decreasing\n",
      "/tmp/ipykernel_867164/1980593778.py:50: DeprecationWarning: `np.float` is a deprecated alias for the builtin `float`. To silence this warning, use `float` by itself. Doing this will not modify any behavior and is safe. If you specifically wanted the numpy scalar type, use `np.float64` here.\n",
      "Deprecated in NumPy 1.20; for more details and guidance: https://numpy.org/devdocs/release/1.20.0-notes.html#deprecations\n",
      "  class_gt_label = gt_label[np.char.lower(gt_label[:, 0].astype(str)) == single_class, 1:].astype(np.float)\n"
     ]
    }
   ],
   "source": [
    "def match_pairs(pred_label, gt_label):\n",
    "    true_preds = np.empty((0, 8))\n",
    "    corresponding_gt = np.empty((0, 7))\n",
    "    result_score = np.empty((0, 2))\n",
    "    # Initialize matching loop\n",
    "    match_incomplete = True\n",
    "    while match_incomplete and gt_label.shape[0] > 0:\n",
    "        match_incomplete = False\n",
    "        for gt_idx, single_gt_label in enumerate(gt_label):\n",
    "            # Check is any prediction is in range\n",
    "            distance_sq_array = (single_gt_label[0] - pred_label[:, 0])**2 + (single_gt_label[1] - pred_label[:, 1])**2\n",
    "            # If there is a prediction in range, pick closest\n",
    "            if np.any(distance_sq_array < distance_threshold_sq):\n",
    "                min_idx = np.argmin(distance_sq_array)\n",
    "                # Store true prediction\n",
    "                true_preds = np.vstack((true_preds, pred_label[min_idx, :].reshape(-1, 1).T))\n",
    "                corresponding_gt = np.vstack((corresponding_gt, gt_label[gt_idx]))\n",
    "\n",
    "                # Store score for mAP\n",
    "                result_score = np.vstack((result_score, np.array([[1, pred_label[min_idx, 7]]])))\n",
    "\n",
    "                # Remove prediction and gt then reset loop\n",
    "                pred_label = np.delete(pred_label, obj=min_idx, axis=0)\n",
    "                gt_label = np.delete(gt_label, obj=gt_idx, axis=0)\n",
    "                match_incomplete = True\n",
    "                break\n",
    "    # If there were any false detections, add them.\n",
    "    if pred_label.shape[0] > 0:\n",
    "        false_positives = np.zeros((pred_label.shape[0], 2))\n",
    "        false_positives[:, 1] = pred_label[:, 7]\n",
    "        result_score = np.vstack((result_score, false_positives))\n",
    "    return true_preds, corresponding_gt, result_score\n",
    "\n",
    "def eval_pair(pred_label, gt_label, results_dict):\n",
    "    ## Check\n",
    "    assert pred_label.shape[1] == 9\n",
    "    assert gt_label.shape[1] == 8\n",
    "\n",
    "    ## Threshold score\n",
    "    if pred_label.shape[0] > 0:\n",
    "        pred_label = pred_label[pred_label[:, 8].astype(np.float) > score_threshold, :]\n",
    "\n",
    "    for single_class in classes:\n",
    "        # get all pred labels, order by score\n",
    "        class_pred_label = pred_label[np.char.lower(pred_label[:, 0].astype(str)) == single_class, 1:]\n",
    "        score = class_pred_label[:, 7].astype(np.float)\n",
    "        class_pred_label = class_pred_label[(-score).argsort(), :].astype(np.float) # sort decreasing\n",
    "\n",
    "        # add gt label length to total_N_pos\n",
    "        class_gt_label = gt_label[np.char.lower(gt_label[:, 0].astype(str)) == single_class, 1:].astype(np.float)\n",
    "        results_dict[single_class]['total_N_pos'] += class_gt_label.shape[0]\n",
    "\n",
    "        # match pairs\n",
    "        pred_array, gt_array, result_score_pair = match_pairs(class_pred_label, class_gt_label)\n",
    "        \n",
    "        # add to existing results\n",
    "        results_dict[single_class]['T_p'] = np.vstack((results_dict[single_class]['T_p'], pred_array))\n",
    "        results_dict[single_class]['gt'] = np.vstack((results_dict[single_class]['gt'], gt_array))\n",
    "        results_dict[single_class]['result'] = np.vstack((results_dict[single_class]['result'], result_score_pair))\n",
    "    return results_dict\n",
    "results_dict = eval_pair(predictions, ground_truth, results_dict)"
   ]
  },
  {
   "cell_type": "code",
   "execution_count": 46,
   "metadata": {},
   "outputs": [
    {
     "name": "stderr",
     "output_type": "stream",
     "text": [
      "/tmp/ipykernel_867164/95906848.py:17: DeprecationWarning: `np.float` is a deprecated alias for the builtin `float`. To silence this warning, use `float` by itself. Doing this will not modify any behavior and is safe. If you specifically wanted the numpy scalar type, use `np.float64` here.\n",
      "Deprecated in NumPy 1.20; for more details and guidance: https://numpy.org/devdocs/release/1.20.0-notes.html#deprecations\n",
      "  pred_label = pred_label[pred_label[:, 8].astype(np.float) > score_threshold, :]\n"
     ]
    }
   ],
   "source": [
    "# eval_pair\n",
    "pred_label = predictions\n",
    "gt_label = ground_truth\n",
    "results_dict = {}\n",
    "for single_class in classes:\n",
    "    class_dict = {}\n",
    "    class_dict['class'] = single_class\n",
    "    class_dict['T_p'] = np.empty((0, 8))\n",
    "    class_dict['gt'] = np.empty((0, 7))\n",
    "    class_dict['total_N_pos'] = 0\n",
    "    class_dict['result'] = np.empty((0, 2))\n",
    "    class_dict['precision'] = []\n",
    "    class_dict['recall'] = []\n",
    "    results_dict[single_class] = class_dict\n",
    "## Threshold score\n",
    "if pred_label.shape[0] > 0:\n",
    "    pred_label = pred_label[pred_label[:, 8].astype(np.float) > score_threshold, :]"
   ]
  },
  {
   "cell_type": "code",
   "execution_count": 48,
   "metadata": {},
   "outputs": [
    {
     "data": {
      "text/plain": [
       "'car'"
      ]
     },
     "execution_count": 48,
     "metadata": {},
     "output_type": "execute_result"
    }
   ],
   "source": [
    "single_class = classes[0]\n",
    "single_class"
   ]
  },
  {
   "cell_type": "code",
   "execution_count": 51,
   "metadata": {},
   "outputs": [
    {
     "data": {
      "text/plain": [
       "array([0., 0., 0., 0., 0., 0., 0., 1., 0., 0., 0., 0., 0., 0., 0., 6., 6.,\n",
       "       6.])"
      ]
     },
     "execution_count": 51,
     "metadata": {},
     "output_type": "execute_result"
    }
   ],
   "source": [
    "pred_label[:, 0]"
   ]
  },
  {
   "cell_type": "code",
   "execution_count": 50,
   "metadata": {},
   "outputs": [
    {
     "data": {
      "text/plain": [
       "'car'"
      ]
     },
     "execution_count": 50,
     "metadata": {},
     "output_type": "execute_result"
    }
   ],
   "source": [
    "single_class"
   ]
  },
  {
   "cell_type": "code",
   "execution_count": 53,
   "metadata": {},
   "outputs": [
    {
     "data": {
      "text/plain": [
       "array([0., 0., 0., 0., 0., 0., 0., 1., 0., 0., 0., 0., 0., 0., 0., 6., 6.,\n",
       "       6.])"
      ]
     },
     "execution_count": 53,
     "metadata": {},
     "output_type": "execute_result"
    }
   ],
   "source": [
    "pred_label[:, 0]"
   ]
  },
  {
   "cell_type": "code",
   "execution_count": 54,
   "metadata": {},
   "outputs": [
    {
     "data": {
      "text/plain": [
       "['car',\n",
       " 'car',\n",
       " 'car',\n",
       " 'car',\n",
       " 'car',\n",
       " 'car',\n",
       " 'car',\n",
       " 'personal_mobility',\n",
       " 'car',\n",
       " 'car',\n",
       " 'car',\n",
       " 'car',\n",
       " 'car',\n",
       " 'car',\n",
       " 'car',\n",
       " 'motorcycle',\n",
       " 'motorcycle',\n",
       " 'motorcycle']"
      ]
     },
     "execution_count": 54,
     "metadata": {},
     "output_type": "execute_result"
    }
   ],
   "source": [
    "[cls_int2name[v.astype(np.int32)] for v in pred_label[:, 0]]"
   ]
  },
  {
   "cell_type": "code",
   "execution_count": 58,
   "metadata": {},
   "outputs": [
    {
     "data": {
      "text/plain": [
       "array([ True,  True,  True,  True,  True,  True,  True, False,  True,\n",
       "        True,  True,  True,  True,  True,  True, False, False, False])"
      ]
     },
     "execution_count": 58,
     "metadata": {},
     "output_type": "execute_result"
    }
   ],
   "source": [
    "np.array([cls_int2name[v.astype(np.int32)] == single_class for v in pred_label[:, 0]])"
   ]
  },
  {
   "cell_type": "code",
   "execution_count": 62,
   "metadata": {},
   "outputs": [
    {
     "data": {
      "text/plain": [
       "(14, 8)"
      ]
     },
     "execution_count": 62,
     "metadata": {},
     "output_type": "execute_result"
    }
   ],
   "source": [
    "# get all pred labels, order by score\n",
    "class_pred_label = pred_label[np.array([cls_int2name[v.astype(np.int32)] == single_class for v in pred_label[:, 0]]), 1:]\n",
    "class_pred_label.shape"
   ]
  },
  {
   "cell_type": "code",
   "execution_count": 64,
   "metadata": {},
   "outputs": [
    {
     "name": "stderr",
     "output_type": "stream",
     "text": [
      "/tmp/ipykernel_867164/1509423979.py:1: DeprecationWarning: `np.float` is a deprecated alias for the builtin `float`. To silence this warning, use `float` by itself. Doing this will not modify any behavior and is safe. If you specifically wanted the numpy scalar type, use `np.float64` here.\n",
      "Deprecated in NumPy 1.20; for more details and guidance: https://numpy.org/devdocs/release/1.20.0-notes.html#deprecations\n",
      "  score = class_pred_label[:, 7].astype(np.float)\n"
     ]
    },
    {
     "data": {
      "text/plain": [
       "array([0.97364402, 0.9675355 , 0.93098027, 0.82285327, 0.68944103,\n",
       "       0.66344965, 0.64427632, 0.18964134, 0.18405277, 0.13786651,\n",
       "       0.12582883, 0.11654592, 0.10999266, 0.10475434])"
      ]
     },
     "execution_count": 64,
     "metadata": {},
     "output_type": "execute_result"
    }
   ],
   "source": [
    "score = class_pred_label[:, 7].astype(np.float32)\n",
    "score"
   ]
  },
  {
   "cell_type": "code",
   "execution_count": 67,
   "metadata": {},
   "outputs": [
    {
     "data": {
      "text/plain": [
       "array([[-33.30736   ,  -2.6373634 ,   0.27279153,   4.62616   ,\n",
       "          2.1902816 ,   1.6867301 ,   2.8582041 ,   0.973644  ],\n",
       "       [-30.792313  ,  -0.1350975 ,   0.19671026,   4.162708  ,\n",
       "          2.235864  ,   1.612027  ,   2.9131713 ,   0.9675355 ],\n",
       "       [ 11.749348  ,   2.7125473 ,  -1.043634  ,   5.2496386 ,\n",
       "          2.2129545 ,   1.5779688 ,  -2.2958517 ,   0.93098027],\n",
       "       [-24.290678  ,  -6.374077  ,  -0.41901124,   4.686167  ,\n",
       "          2.0557008 ,   1.5444843 ,  -0.47341883,   0.82285327],\n",
       "       [ 31.900303  ,  23.750713  ,  -1.0900493 ,   4.1171155 ,\n",
       "          1.9958366 ,   1.655576  ,  -2.2316809 ,   0.689441  ],\n",
       "       [-26.109943  ,   3.8381538 ,   0.52568674,   4.7247767 ,\n",
       "          2.4224095 ,   1.8728213 ,   3.0335562 ,   0.66344965],\n",
       "       [-18.69965   ,   3.5399551 ,  -0.18390793,   4.730423  ,\n",
       "          2.3283584 ,   1.8086381 ,  -0.38188693,   0.6442763 ],\n",
       "       [ 19.544552  ,   6.068489  ,  -1.1351376 ,   4.992664  ,\n",
       "          2.0959558 ,   1.5952257 ,  -2.3589578 ,   0.18964134],\n",
       "       [ 21.95779   ,   5.2263374 ,  -1.1410755 ,   5.064058  ,\n",
       "          2.196673  ,   1.662762  ,  -2.2919436 ,   0.18405277],\n",
       "       [ 17.11568   ,   4.3813057 ,  -1.0990738 ,   4.6942725 ,\n",
       "          2.0840566 ,   1.5655982 ,  -2.4359546 ,   0.13786651],\n",
       "       [ 41.171047  ,  29.996891  ,  -1.1418253 ,   4.916968  ,\n",
       "          2.0530138 ,   1.6238626 ,  -2.40764   ,   0.12582883],\n",
       "       [ 37.267323  ,  30.737835  ,  -1.1683148 ,   5.1286287 ,\n",
       "          2.1387713 ,   1.6244466 ,  -2.3657753 ,   0.11654592],\n",
       "       [ 46.046513  ,  35.463245  ,  -1.0797782 ,   4.818298  ,\n",
       "          2.063196  ,   1.6106373 ,  -2.2875075 ,   0.10999266],\n",
       "       [ 43.497013  ,  32.459568  ,  -1.1151711 ,   4.880932  ,\n",
       "          2.0870626 ,   1.6207827 ,  -2.3496768 ,   0.10475434]],\n",
       "      dtype=float32)"
      ]
     },
     "execution_count": 67,
     "metadata": {},
     "output_type": "execute_result"
    }
   ],
   "source": [
    "class_pred_label = class_pred_label[(-score).argsort(), :].astype(np.float32) # sort decreasing\n",
    "class_pred_label"
   ]
  },
  {
   "cell_type": "code",
   "execution_count": 73,
   "metadata": {},
   "outputs": [
    {
     "data": {
      "text/plain": [
       "array([[-2.64181805e+01,  4.09772921e+00,  5.02315998e-01,\n",
       "         4.29464674e+00,  2.11764717e+00,  1.90406501e+00,\n",
       "        -4.05256629e-01],\n",
       "       [-2.42706604e+01, -6.38660860e+00, -4.59982485e-01,\n",
       "         4.80000019e+00,  2.06392455e+00,  1.46751928e+00,\n",
       "        -4.39436495e-01],\n",
       "       [-3.07307186e+01, -5.45247234e-02,  1.63517475e-01,\n",
       "         4.07085037e+00,  2.13368988e+00,  1.55203247e+00,\n",
       "        -3.24963808e-01],\n",
       "       [-3.32969475e+01, -2.62279510e+00,  2.77641080e-02,\n",
       "         4.64798975e+00,  2.13130927e+00,  1.60648918e+00,\n",
       "        -2.92017549e-01],\n",
       "       [ 1.17694654e+01,  2.81653905e+00, -1.05952072e+00,\n",
       "         5.19999981e+00,  2.20000005e+00,  1.50000000e+00,\n",
       "        -2.30893636e+00],\n",
       "       [-1.83771973e+01,  3.40501928e+00, -1.08970016e-01,\n",
       "         4.63135099e+00,  2.06363630e+00,  1.79999995e+00,\n",
       "        -1.01416671e+00],\n",
       "       [ 3.21460876e+01,  2.38664799e+01, -9.68925297e-01,\n",
       "         4.76180840e+00,  2.12369752e+00,  1.79999995e+00,\n",
       "        -2.31824470e+00],\n",
       "       [-2.57976437e+01, -6.51001587e+01, -1.30242872e+00,\n",
       "         4.90000010e+00,  2.20000005e+00,  1.50000000e+00,\n",
       "         8.42186332e-01]], dtype=float32)"
      ]
     },
     "execution_count": 73,
     "metadata": {},
     "output_type": "execute_result"
    }
   ],
   "source": [
    "# add gt label length to total_N_pos\n",
    "class_gt_label = gt_label[np.array([cls_int2name[v.astype(np.int32)] == single_class for v in gt_label[:, 0]]), 1:].astype(np.float32)\n",
    "class_gt_label"
   ]
  },
  {
   "cell_type": "code",
   "execution_count": 74,
   "metadata": {},
   "outputs": [],
   "source": [
    "results_dict[single_class]['total_N_pos'] += class_gt_label.shape[0]"
   ]
  },
  {
   "cell_type": "code",
   "execution_count": 75,
   "metadata": {},
   "outputs": [
    {
     "data": {
      "text/plain": [
       "8"
      ]
     },
     "execution_count": 75,
     "metadata": {},
     "output_type": "execute_result"
    }
   ],
   "source": [
    "results_dict[single_class]['total_N_pos']"
   ]
  },
  {
   "cell_type": "code",
   "execution_count": 76,
   "metadata": {},
   "outputs": [],
   "source": [
    "# match pairs\n",
    "pred_array, gt_array, result_score_pair = match_pairs(class_pred_label, class_gt_label)"
   ]
  },
  {
   "cell_type": "code",
   "execution_count": 79,
   "metadata": {},
   "outputs": [
    {
     "data": {
      "text/plain": [
       "array([[1.        , 0.66344965],\n",
       "       [1.        , 0.82285327],\n",
       "       [1.        , 0.9675355 ],\n",
       "       [1.        , 0.97364402],\n",
       "       [1.        , 0.93098027],\n",
       "       [1.        , 0.64427632],\n",
       "       [1.        , 0.68944103],\n",
       "       [0.        , 0.18964134],\n",
       "       [0.        , 0.18405277],\n",
       "       [0.        , 0.13786651],\n",
       "       [0.        , 0.12582883],\n",
       "       [0.        , 0.11654592],\n",
       "       [0.        , 0.10999266],\n",
       "       [0.        , 0.10475434]])"
      ]
     },
     "execution_count": 79,
     "metadata": {},
     "output_type": "execute_result"
    }
   ],
   "source": [
    "result_score_pair"
   ]
  },
  {
   "cell_type": "code",
   "execution_count": 80,
   "metadata": {},
   "outputs": [],
   "source": [
    "# add to existing results\n",
    "results_dict[single_class]['T_p'] = np.vstack((results_dict[single_class]['T_p'], pred_array))\n",
    "results_dict[single_class]['gt'] = np.vstack((results_dict[single_class]['gt'], gt_array))\n",
    "results_dict[single_class]['result'] = np.vstack((results_dict[single_class]['result'], result_score_pair))"
   ]
  },
  {
   "cell_type": "code",
   "execution_count": 81,
   "metadata": {},
   "outputs": [
    {
     "data": {
      "text/plain": [
       "{'car': {'class': 'car',\n",
       "  'T_p': array([[-26.10994339,   3.83815384,   0.52568674,   4.72477674,\n",
       "            2.42240953,   1.87282133,   3.03355622,   0.66344965],\n",
       "         [-24.29067802,  -6.37407684,  -0.41901124,   4.68616676,\n",
       "            2.05570078,   1.54448426,  -0.47341883,   0.82285327],\n",
       "         [-30.79231262,  -0.1350975 ,   0.19671026,   4.16270781,\n",
       "            2.23586392,   1.61202705,   2.91317129,   0.9675355 ],\n",
       "         [-33.3073616 ,  -2.63736343,   0.27279153,   4.62616014,\n",
       "            2.19028163,   1.68673015,   2.85820413,   0.97364402],\n",
       "         [ 11.74934769,   2.7125473 ,  -1.04363406,   5.24963856,\n",
       "            2.21295452,   1.57796884,  -2.29585171,   0.93098027],\n",
       "         [-18.69964981,   3.53995514,  -0.18390793,   4.73042297,\n",
       "            2.32835841,   1.8086381 ,  -0.38188693,   0.64427632],\n",
       "         [ 31.90030289,  23.75071335,  -1.09004927,   4.1171155 ,\n",
       "            1.99583662,   1.65557599,  -2.23168087,   0.68944103]]),\n",
       "  'gt': array([[-2.64181805e+01,  4.09772921e+00,  5.02315998e-01,\n",
       "           4.29464674e+00,  2.11764717e+00,  1.90406501e+00,\n",
       "          -4.05256629e-01],\n",
       "         [-2.42706604e+01, -6.38660860e+00, -4.59982485e-01,\n",
       "           4.80000019e+00,  2.06392455e+00,  1.46751928e+00,\n",
       "          -4.39436495e-01],\n",
       "         [-3.07307186e+01, -5.45247234e-02,  1.63517475e-01,\n",
       "           4.07085037e+00,  2.13368988e+00,  1.55203247e+00,\n",
       "          -3.24963808e-01],\n",
       "         [-3.32969475e+01, -2.62279510e+00,  2.77641080e-02,\n",
       "           4.64798975e+00,  2.13130927e+00,  1.60648918e+00,\n",
       "          -2.92017549e-01],\n",
       "         [ 1.17694654e+01,  2.81653905e+00, -1.05952072e+00,\n",
       "           5.19999981e+00,  2.20000005e+00,  1.50000000e+00,\n",
       "          -2.30893636e+00],\n",
       "         [-1.83771973e+01,  3.40501928e+00, -1.08970016e-01,\n",
       "           4.63135099e+00,  2.06363630e+00,  1.79999995e+00,\n",
       "          -1.01416671e+00],\n",
       "         [ 3.21460876e+01,  2.38664799e+01, -9.68925297e-01,\n",
       "           4.76180840e+00,  2.12369752e+00,  1.79999995e+00,\n",
       "          -2.31824470e+00]]),\n",
       "  'total_N_pos': 8,\n",
       "  'result': array([[1.        , 0.66344965],\n",
       "         [1.        , 0.82285327],\n",
       "         [1.        , 0.9675355 ],\n",
       "         [1.        , 0.97364402],\n",
       "         [1.        , 0.93098027],\n",
       "         [1.        , 0.64427632],\n",
       "         [1.        , 0.68944103],\n",
       "         [0.        , 0.18964134],\n",
       "         [0.        , 0.18405277],\n",
       "         [0.        , 0.13786651],\n",
       "         [0.        , 0.12582883],\n",
       "         [0.        , 0.11654592],\n",
       "         [0.        , 0.10999266],\n",
       "         [0.        , 0.10475434]]),\n",
       "  'precision': [],\n",
       "  'recall': []},\n",
       " 'personal_mobility': {'class': 'personal_mobility',\n",
       "  'T_p': array([], shape=(0, 8), dtype=float64),\n",
       "  'gt': array([], shape=(0, 7), dtype=float64),\n",
       "  'total_N_pos': 0,\n",
       "  'result': array([], shape=(0, 2), dtype=float64),\n",
       "  'precision': [],\n",
       "  'recall': []},\n",
       " 'truck': {'class': 'truck',\n",
       "  'T_p': array([], shape=(0, 8), dtype=float64),\n",
       "  'gt': array([], shape=(0, 7), dtype=float64),\n",
       "  'total_N_pos': 0,\n",
       "  'result': array([], shape=(0, 2), dtype=float64),\n",
       "  'precision': [],\n",
       "  'recall': []},\n",
       " 'construction_vehicle': {'class': 'construction_vehicle',\n",
       "  'T_p': array([], shape=(0, 8), dtype=float64),\n",
       "  'gt': array([], shape=(0, 7), dtype=float64),\n",
       "  'total_N_pos': 0,\n",
       "  'result': array([], shape=(0, 2), dtype=float64),\n",
       "  'precision': [],\n",
       "  'recall': []},\n",
       " 'bus': {'class': 'bus',\n",
       "  'T_p': array([], shape=(0, 8), dtype=float64),\n",
       "  'gt': array([], shape=(0, 7), dtype=float64),\n",
       "  'total_N_pos': 0,\n",
       "  'result': array([], shape=(0, 2), dtype=float64),\n",
       "  'precision': [],\n",
       "  'recall': []},\n",
       " 'ground_animal': {'class': 'ground_animal',\n",
       "  'T_p': array([], shape=(0, 8), dtype=float64),\n",
       "  'gt': array([], shape=(0, 7), dtype=float64),\n",
       "  'total_N_pos': 0,\n",
       "  'result': array([], shape=(0, 2), dtype=float64),\n",
       "  'precision': [],\n",
       "  'recall': []},\n",
       " 'motorcycle': {'class': 'motorcycle',\n",
       "  'T_p': array([], shape=(0, 8), dtype=float64),\n",
       "  'gt': array([], shape=(0, 7), dtype=float64),\n",
       "  'total_N_pos': 0,\n",
       "  'result': array([], shape=(0, 2), dtype=float64),\n",
       "  'precision': [],\n",
       "  'recall': []},\n",
       " 'bicycle': {'class': 'bicycle',\n",
       "  'T_p': array([], shape=(0, 8), dtype=float64),\n",
       "  'gt': array([], shape=(0, 7), dtype=float64),\n",
       "  'total_N_pos': 0,\n",
       "  'result': array([], shape=(0, 2), dtype=float64),\n",
       "  'precision': [],\n",
       "  'recall': []},\n",
       " 'pedestrian': {'class': 'pedestrian',\n",
       "  'T_p': array([], shape=(0, 8), dtype=float64),\n",
       "  'gt': array([], shape=(0, 7), dtype=float64),\n",
       "  'total_N_pos': 0,\n",
       "  'result': array([], shape=(0, 2), dtype=float64),\n",
       "  'precision': [],\n",
       "  'recall': []}}"
      ]
     },
     "execution_count": 81,
     "metadata": {},
     "output_type": "execute_result"
    }
   ],
   "source": [
    "results_dict"
   ]
  },
  {
   "cell_type": "code",
   "execution_count": 82,
   "metadata": {},
   "outputs": [
    {
     "name": "stdout",
     "output_type": "stream",
     "text": [
      "(14, 2)\n"
     ]
    },
    {
     "data": {
      "image/png": "[encoded data removed]",
      "text/plain": [
       "<Figure size 640x480 with 1 Axes>"
      ]
     },
     "metadata": {},
     "output_type": "display_data"
    }
   ],
   "source": [
    "class_dict = results_dict[single_class]\n",
    "def compute_ap_curve(class_dict):\n",
    "    t_pos = 0\n",
    "    class_dict['precision'] = np.ones(class_dict['result'].shape[0]+2)\n",
    "    class_dict['recall'] = np.zeros(class_dict['result'].shape[0]+2)\n",
    "    sorted_detections = class_dict['result'][(-class_dict['result'][:, 1]).argsort(), :]\n",
    "    print(sorted_detections.shape)\n",
    "    for i, (result_bool, result_score) in enumerate(sorted_detections):\n",
    "        if result_bool == 1:\n",
    "            t_pos += 1\n",
    "        class_dict['precision'][i+1] = t_pos / (i + 1)\n",
    "        class_dict['recall'][i+1] = t_pos / class_dict['total_N_pos']\n",
    "    class_dict['precision'][i+2] = 0\n",
    "    class_dict['recall'][i+2] = class_dict['recall'][i+1]\n",
    "\n",
    "    ## Plot\n",
    "    plt.figure()\n",
    "    plt.plot(class_dict['recall'], class_dict['precision'])\n",
    "    plt.xlabel('Recall')\n",
    "    plt.ylabel('Precision')\n",
    "    plt.title('Precision Recall curve for {} Class'.format(class_dict['class']))\n",
    "    plt.xlim([0, 1])\n",
    "    plt.ylim([0, 1.05])\n",
    "    plt.savefig(save_loc + class_dict['class'] + \"_pr_curve.png\")\n",
    "compute_ap_curve(class_dict)"
   ]
  },
  {
   "cell_type": "code",
   "execution_count": 83,
   "metadata": {},
   "outputs": [
    {
     "data": {
      "text/plain": [
       "0.8571428571428571"
      ]
     },
     "execution_count": 83,
     "metadata": {},
     "output_type": "execute_result"
    }
   ],
   "source": [
    "def compute_mean_ap(precision, recall, precision_threshold=0.0, recall_threshold=0.0):\n",
    "    mean_ap = 0\n",
    "    threshold_mask = np.logical_and(precision > precision_threshold,\n",
    "                                    recall > recall_threshold)\n",
    "    # calculate mean AP\n",
    "    precision = precision[threshold_mask]\n",
    "    recall = recall[threshold_mask]\n",
    "    recall_diff = np.diff(recall)\n",
    "    precision_diff = np.diff(precision)\n",
    "    # Square area under curve based on i+1 precision, then linear difference in precision\n",
    "    mean_ap = np.sum(precision[1:]*recall_diff + recall_diff*precision_diff/2)\n",
    "    # We need to divide by (1-recall_threshold) to make the max possible mAP = 1. In practice threshold by the first\n",
    "    # considered recall value (threshold = 0.1 -> first considered value may be = 0.1123)\n",
    "    mean_ap = mean_ap/(1-recall[0])\n",
    "    return mean_ap\n",
    "mean_ap = compute_mean_ap(class_dict['precision'], class_dict['recall'])\n",
    "mean_ap"
   ]
  },
  {
   "cell_type": "code",
   "execution_count": null,
   "metadata": {},
   "outputs": [],
   "source": [
    "# 출처: https://github.com/jacoblambert/3d_lidar_detection_evaluation/blob/master/nuscenes_eval_core.py\n",
    "from label_parser import LabelParser\n",
    "\n",
    "class NuScenesEval:\n",
    "    def __init__(self, pred_label_path, gt_label_path, label_format, save_loc,\n",
    "                 classes=['car', 'pedestrian', 'cyclist'],\n",
    "                 distance_threshold=1.0,\n",
    "                 min_score=0.0,\n",
    "                 max_range=0.0):\n",
    "\n",
    "        # Initialize\n",
    "        self.save_loc = save_loc\n",
    "        self.distance_threshold_sq = distance_threshold**2\n",
    "        self.score_threshold = min_score\n",
    "        self.max_range = max_range\n",
    "        self.classes = classes\n",
    "        self.total_N_pos = 0\n",
    "        self.results_dict = {}\n",
    "        for single_class in classes:\n",
    "            class_dict = {}\n",
    "            class_dict['class'] = single_class\n",
    "            class_dict['T_p'] = np.empty((0, 8))\n",
    "            class_dict['gt'] = np.empty((0, 7))\n",
    "            class_dict['total_N_pos'] = 0\n",
    "            class_dict['result'] = np.empty((0, 2))\n",
    "            class_dict['precision'] = []\n",
    "            class_dict['recall'] = []\n",
    "            self.results_dict[single_class] = class_dict\n",
    "        # Format\n",
    "        if pred_label_path[-1] is not \"/\":\n",
    "            pred_label_path += \"/\"\n",
    "        if gt_label_path[-1] is not \"/\":\n",
    "            gt_label_path += \"/\"\n",
    "        # Run\n",
    "        self.time = time.time()\n",
    "        self.evaluate(pred_label_path, gt_label_path, label_format)\n",
    "\n",
    "    def evaluate(self, pred_path, gt_path, label_format):\n",
    "        pred_file_list = glob.glob(pred_path + \"*\")\n",
    "        pred_file_list.sort()\n",
    "        gt_file_list = glob.glob(gt_path + \"*\")\n",
    "        gt_file_list.sort()\n",
    "        num_examples = len(pred_file_list)\n",
    "        print(\"Starting evaluation for {} file predictions\".format(num_examples))\n",
    "        print(\"--------------------------------------------\")\n",
    "\n",
    "        ## Check missing files\n",
    "        print(\"Confirmation prediction ground truth file pairs.\")\n",
    "        for pred_fn in pred_file_list:\n",
    "            if (gt_path + os.path.basename(pred_fn)) not in gt_file_list:\n",
    "                print(\"Error loading labels: gt label for pred label {} was not found.\".format(\n",
    "                    os.path.basename(pred_fn)))\n",
    "                sys.exit(1)\n",
    "\n",
    "        ## Evaluate matches\n",
    "        print(\"Evaluation examples\")\n",
    "        file_parsing = LabelParser(label_format)\n",
    "        for i, pred_fn in enumerate(pred_file_list):\n",
    "            # print(\"\\r\", i+1, \"/\", num_examples, end=\"\")\n",
    "            gt_fn = gt_path + os.path.basename(pred_fn)\n",
    "            predictions = file_parsing.parse_label(pred_fn, prediction=True)\n",
    "            ground_truth = file_parsing.parse_label(gt_fn, prediction=False)\n",
    "        # Filter range\n",
    "            if self.max_range > 0:\n",
    "                predictions, ground_truth = self.filter_by_range(predictions, ground_truth, range=self.max_range)\n",
    "            self.eval_pair(predictions, ground_truth)\n",
    "        print(\"\\nDone!\")\n",
    "        print(\"----------------------------------\")\n",
    "        ## Calculate\n",
    "        for single_class in self.classes:\n",
    "            class_dict = self.results_dict[single_class]\n",
    "            print(\"Calculating metrics for {} class\".format(single_class))\n",
    "            print(\"----------------------------------\")\n",
    "            print(\"Number of ground truth labels: \", class_dict['total_N_pos'])\n",
    "            print(\"Number of detections:  \", class_dict['result'].shape[0])\n",
    "            print(\"Number of true positives:  \", np.sum(class_dict['result'][:, 0] == 1))\n",
    "            print(\"Number of false positives:  \", np.sum(class_dict['result'][:, 0] == 0))\n",
    "            if class_dict['total_N_pos'] == 0:\n",
    "                print(\"No detections for this class!\")\n",
    "                print(\" \")\n",
    "                continue\n",
    "            ## AP\n",
    "            self.compute_ap_curve(class_dict)\n",
    "            mean_ap = self.compute_mean_ap(class_dict['precision'], class_dict['recall'])\n",
    "            print('Mean AP: %.3f ' % mean_ap)\n",
    "            f1 = self.compute_f1_score(class_dict['precision'], class_dict['recall'])\n",
    "            print('F1 Score: %.3f ' % f1)\n",
    "            print(' ')\n",
    "            ## Positive Thresholds\n",
    "            # ATE 2D\n",
    "            ate2d = self.compute_ate2d(class_dict['T_p'], class_dict['gt'])\n",
    "            print('Average 2D Translation Error [m]:  %.4f ' % ate2d)\n",
    "            # ATE 3D\n",
    "            ate3d = self.compute_ate3d(class_dict['T_p'], class_dict['gt'])\n",
    "            print('Average 3D Translation Error [m]:  %.4f ' % ate3d)\n",
    "            # ASE\n",
    "            ase = self.compute_ase(class_dict['T_p'], class_dict['gt'])\n",
    "            print('Average Scale Error:  %.4f ' % ase)\n",
    "            # AOE\n",
    "            aoe = self.compute_aoe(class_dict['T_p'], class_dict['gt'])\n",
    "            print('Average Orientation Error [rad]:  %.4f ' % aoe)\n",
    "            print(\" \")\n",
    "        self.time = float(time.time() - self.time)\n",
    "        print(\"Total evaluation time: %.5f \" % self.time)\n",
    "\n",
    "    def compute_ap_curve(self, class_dict):\n",
    "        t_pos = 0\n",
    "        class_dict['precision'] = np.ones(class_dict['result'].shape[0]+2)\n",
    "        class_dict['recall'] = np.zeros(class_dict['result'].shape[0]+2)\n",
    "        sorted_detections = class_dict['result'][(-class_dict['result'][:, 1]).argsort(), :]\n",
    "        print(sorted_detections.shape)\n",
    "        for i, (result_bool, result_score) in enumerate(sorted_detections):\n",
    "            if result_bool == 1:\n",
    "                t_pos += 1\n",
    "            class_dict['precision'][i+1] = t_pos / (i + 1)\n",
    "            class_dict['recall'][i+1] = t_pos / class_dict['total_N_pos']\n",
    "        class_dict['precision'][i+2] = 0\n",
    "        class_dict['recall'][i+2] = class_dict['recall'][i+1]\n",
    "\n",
    "        ## Plot\n",
    "        plt.figure()\n",
    "        plt.plot(class_dict['recall'], class_dict['precision'])\n",
    "        plt.xlabel('Recall')\n",
    "        plt.ylabel('Precision')\n",
    "        plt.title('Precision Recall curve for {} Class'.format(class_dict['class']))\n",
    "        plt.xlim([0, 1])\n",
    "        plt.ylim([0, 1.05])\n",
    "        plt.savefig(self.save_loc + class_dict['class'] + \"_pr_curve.png\")\n",
    "\n",
    "    def compute_f1_score(self, precision, recall):\n",
    "        p, r = precision[(precision+recall) > 0], recall[(precision+recall) > 0]\n",
    "        f1_scores = 2 * p * r / (p + r)\n",
    "        return np.max(f1_scores)\n",
    "\n",
    "    def compute_mean_ap(self, precision, recall, precision_threshold=0.0, recall_threshold=0.0):\n",
    "        mean_ap = 0\n",
    "        threshold_mask = np.logical_and(precision > precision_threshold,\n",
    "                                        recall > recall_threshold)\n",
    "        # calculate mean AP\n",
    "        precision = precision[threshold_mask]\n",
    "        recall = recall[threshold_mask]\n",
    "        recall_diff = np.diff(recall)\n",
    "        precision_diff = np.diff(precision)\n",
    "        # Square area under curve based on i+1 precision, then linear difference in precision\n",
    "        mean_ap = np.sum(precision[1:]*recall_diff + recall_diff*precision_diff/2)\n",
    "        # We need to divide by (1-recall_threshold) to make the max possible mAP = 1. In practice threshold by the first\n",
    "        # considered recall value (threshold = 0.1 -> first considered value may be = 0.1123)\n",
    "        mean_ap = mean_ap/(1-recall[0])\n",
    "        return mean_ap\n",
    "\n",
    "    def compute_ate2d(self, predictions, ground_truth):\n",
    "        # euclidean distance 3d\n",
    "        mean_ate2d = np.mean(np.sqrt((predictions[:, 0] - ground_truth[:, 0])**2 +\n",
    "                                     (predictions[:, 1] - ground_truth[:, 1])**2))\n",
    "        return mean_ate2d\n",
    "\n",
    "    def compute_ate3d(self, predictions, ground_truth):\n",
    "        # euclidean distance 2d\n",
    "        mean_ate3d = np.mean(np.sqrt((predictions[:, 0] - ground_truth[:, 0]) ** 2 +\n",
    "                                     (predictions[:, 1] - ground_truth[:, 1]) ** 2 +\n",
    "                                     (predictions[:, 2] - ground_truth[:, 2]) ** 2))\n",
    "        return mean_ate3d\n",
    "\n",
    "    def compute_ase(self, predictions, ground_truth):\n",
    "        # simplified iou where boxes are centered and aligned with eachother\n",
    "        pred_vol = predictions[:, 3:6]\n",
    "        gt_vol = ground_truth[:, 3:6]\n",
    "        iou3d = np.mean(1 - np.prod(np.minimum(pred_vol, gt_vol), axis=1)/np.prod(np.maximum(pred_vol, gt_vol), axis=1))\n",
    "        return iou3d\n",
    "\n",
    "    def compute_aoe(self, predictions, ground_truth):\n",
    "        err = ground_truth[:,6] - predictions[:,6]\n",
    "        aoe = np.mean(np.abs((err + np.pi) % (2*np.pi) - np.pi))\n",
    "        return aoe\n",
    "\n",
    "    def eval_pair(self, pred_label, gt_label):\n",
    "        ## Check\n",
    "        assert pred_label.shape[1] == 9\n",
    "        assert gt_label.shape[1] == 8\n",
    "\n",
    "        ## Threshold score\n",
    "        if pred_label.shape[0] > 0:\n",
    "            pred_label = pred_label[pred_label[:, 8].astype(np.float) > self.score_threshold, :]\n",
    "\n",
    "        for single_class in self.classes:\n",
    "            # get all pred labels, order by score\n",
    "            class_pred_label = pred_label[np.char.lower(pred_label[:, 0].astype(str)) == single_class, 1:]\n",
    "            score = class_pred_label[:, 7].astype(np.float)\n",
    "            class_pred_label = class_pred_label[(-score).argsort(), :].astype(np.float) # sort decreasing\n",
    "\n",
    "            # add gt label length to total_N_pos\n",
    "            class_gt_label = gt_label[np.char.lower(gt_label[:, 0].astype(str)) == single_class, 1:].astype(np.float)\n",
    "            self.results_dict[single_class]['total_N_pos'] += class_gt_label.shape[0]\n",
    "\n",
    "            # match pairs\n",
    "            pred_array, gt_array, result_score_pair = self.match_pairs(class_pred_label, class_gt_label)\n",
    "\n",
    "            # add to existing results\n",
    "            self.results_dict[single_class]['T_p'] = np.vstack((self.results_dict[single_class]['T_p'], pred_array))\n",
    "            self.results_dict[single_class]['gt'] = np.vstack((self.results_dict[single_class]['gt'], gt_array))\n",
    "            self.results_dict[single_class]['result'] = np.vstack((self.results_dict[single_class]['result'],\n",
    "                                                                   result_score_pair))\n",
    "\n",
    "    def match_pairs(self, pred_label, gt_label):\n",
    "        true_preds = np.empty((0, 8))\n",
    "        corresponding_gt = np.empty((0, 7))\n",
    "        result_score = np.empty((0, 2))\n",
    "        # Initialize matching loop\n",
    "        match_incomplete = True\n",
    "        while match_incomplete and gt_label.shape[0] > 0:\n",
    "            match_incomplete = False\n",
    "            for gt_idx, single_gt_label in enumerate(gt_label):\n",
    "                # Check is any prediction is in range\n",
    "                distance_sq_array = (single_gt_label[0] - pred_label[:, 0])**2 + (single_gt_label[1] - pred_label[:, 1])**2\n",
    "                # If there is a prediction in range, pick closest\n",
    "                if np.any(distance_sq_array < self.distance_threshold_sq):\n",
    "                    min_idx = np.argmin(distance_sq_array)\n",
    "                    # Store true prediction\n",
    "                    true_preds = np.vstack((true_preds, pred_label[min_idx, :].reshape(-1, 1).T))\n",
    "                    corresponding_gt = np.vstack((corresponding_gt, gt_label[gt_idx]))\n",
    "\n",
    "                    # Store score for mAP\n",
    "                    result_score = np.vstack((result_score, np.array([[1, pred_label[min_idx, 7]]])))\n",
    "\n",
    "                    # Remove prediction and gt then reset loop\n",
    "                    pred_label = np.delete(pred_label, obj=min_idx, axis=0)\n",
    "                    gt_label = np.delete(gt_label, obj=gt_idx, axis=0)\n",
    "                    match_incomplete = True\n",
    "                    break\n",
    "\n",
    "        # If there were any false detections, add them.\n",
    "        if pred_label.shape[0] > 0:\n",
    "            false_positives = np.zeros((pred_label.shape[0], 2))\n",
    "            false_positives[:, 1] = pred_label[:, 7]\n",
    "            result_score = np.vstack((result_score, false_positives))\n",
    "        return true_preds, corresponding_gt, result_score\n",
    "\n",
    "    def filter_by_range(self, pred_label, gt_label, range=0):\n",
    "        pred_dist = np.linalg.norm(pred_label[:, 1:4].astype(np.float32), axis=1) < range\n",
    "        gt_dist = np.linalg.norm(gt_label[:, 1:4].astype(np.float32), axis=1) < range\n",
    "        return pred_label[pred_dist, :], gt_label[gt_dist, :]"
   ]
  }
 ],
 "metadata": {
  "kernelspec": {
   "display_name": "centerpoint",
   "language": "python",
   "name": "python3"
  },
  "language_info": {
   "codemirror_mode": {
    "name": "ipython",
    "version": 3
   },
   "file_extension": ".py",
   "mimetype": "text/x-python",
   "name": "python",
   "nbconvert_exporter": "python",
   "pygments_lexer": "ipython3",
   "version": "3.8.18"
  }
 },
 "nbformat": 4,
 "nbformat_minor": 2
}
